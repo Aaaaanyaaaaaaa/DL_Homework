{
  "nbformat": 4,
  "nbformat_minor": 0,
  "metadata": {
    "kernelspec": {
      "display_name": "Python 3",
      "language": "python",
      "name": "python3"
    },
    "language_info": {
      "codemirror_mode": {
        "name": "ipython",
        "version": 3
      },
      "file_extension": ".py",
      "mimetype": "text/x-python",
      "name": "python",
      "nbconvert_exporter": "python",
      "pygments_lexer": "ipython3",
      "version": "3.7.6"
    },
    "colab": {
      "name": "PartHW1 (1).ipynb",
      "provenance": []
    }
  },
  "cells": [
    {
      "cell_type": "markdown",
      "metadata": {
        "id": "vexBXVHFj7L6",
        "colab_type": "text"
      },
      "source": [
        "<a href=\"https://colab.research.google.com/github/karfly/learning-deep-learning/blob/master/09_transformer/postagging_transformer.ipynb\" target=\"_parent\"><img src=\"https://colab.research.google.com/assets/colab-badge.svg\" alt=\"Open In Colab\"/></a>"
      ]
    },
    {
      "cell_type": "markdown",
      "metadata": {
        "id": "rwB2kikJj7L8",
        "colab_type": "text"
      },
      "source": [
        "# POS-tagging with Transformers"
      ]
    },
    {
      "cell_type": "markdown",
      "metadata": {
        "id": "kTHDDISej7L-",
        "colab_type": "text"
      },
      "source": [
        "**Part-of-speech (POS) tagging** is the process of marking up a word in a text as corresponding to a particular part of speech (noun, verb, ...), based on both its definition and its context.\n",
        "\n",
        "\n",
        "<img src=\"https://raw.githubusercontent.com/karfly/learning-deep-learning/master/09_transformer/static/pos-tagging.png\" width=480>\n",
        "\n",
        "Let's look at some basic examples:\n",
        "\n",
        "\n",
        "**Example 1.**\n",
        "\n",
        "$$\\begin{align*}\n",
        "\\text{Input} &= [\\text{I love my cat}]\\\\\n",
        "\\text{Output} &= [\\text{PRON VERB PRON NOUN}]\n",
        "\\end{align*}$$\n",
        "\n",
        "\n",
        "**Example 2.**\n",
        "\n",
        "$$\\begin{align*}\n",
        "\\text{Input} &= [\\text{august 11 , 2000}]\\\\\n",
        "\\text{Output} &= [\\text{PROPN NUM PUNCT NUM}]\n",
        "\\end{align*}$$\n",
        "\n",
        "\n",
        "---\n",
        "At first glance it seems that the POS-tagging problem can be solved by collecting a dictionary `{word : POS-tag}`. But natural language is very complex and usually a word's part of speech strongly depends on the context, like in the following examples: \n",
        "\n",
        "\n",
        "**Example 3.**\n",
        "\n",
        "$$\\begin{align*}\n",
        "\\text{Input} &= [\\text{Look , there is a } \\textbf{bear}]\\\\\n",
        "\\text{Output} &= [\\text{VERB PUNCT DET VERB DET } \\textbf{NOUN}]\n",
        "\\end{align*}$$\n",
        "\n",
        "\n",
        "\n",
        "**Example 4.**\n",
        "\n",
        "$$\\begin{align*}\n",
        "\\text{Input} &= [\\text{I can not } \\textbf{bear } \\text{it anymore}]\\\\\n",
        "\\text{Output} &= [\\text{PROPN VERB ADV } \\textbf{VERB } \\text{PROPN ADV}]\n",
        "\\end{align*}$$\n",
        "\n",
        "In the example 3 the word `bear` is a NOUN, but `bear` in the example 4 is a VERB. This can only be derived from the context. Such examples are not rare, on the contrary, they are very common in human languages (e.g. see [homonyms](https://en.wikipedia.org/wiki/Homonym)). Today we'll tackle this problem by using the most successful (so far) deep learning architecture for NLP – [Transformer](https://arxiv.org/abs/1706.03762)!"
      ]
    },
    {
      "cell_type": "markdown",
      "metadata": {
        "id": "Y9y5LyIyj7MB",
        "colab_type": "text"
      },
      "source": [
        "## Homework plan\n",
        "\n",
        "In this homework you'll implement and train 2 POS-tagging models: **Conv** (baseline) and **Transformer**. The **main goal** of this homework is to get to know with the **Transformer architecture** and to understand how it works from the inside.\n",
        "\n",
        "The plan for the homework is as follows:\n",
        "1. Load and prepare data (you'll use `UDPOS` dataset from [torchtext](https://pytorch.org/text/))\n",
        "2. Build baseline Conv model (already implemented for you)\n",
        "3. Implement training pipeline and train/evaluate baseline model\n",
        "4. Build Transformer (all fun is here!)\n",
        "5. Train/evaluate Transformer model (here you'll reuse the pipeline from pt. 3)\n",
        "6. Write a of short report\n",
        "\n",
        "## Grading (10 points total)\n",
        "The main metric in this homework is accuracy calculated on the **test** set (please, don't train on test set – it will be easily revealed by the TAs). Also, you are not allowed to change train/val/test data.\n",
        "\n",
        "The points are allocated to tasks as follows:\n",
        " 1. **[3 points]** Training and evaluation of baseline Conv model (don't change the model architecture!). The test accuracy must be **> 82.5%**\n",
        " 2. **[7 points]** Implementation, training and evaluation of Transformer model. The test accuracy must be **> 85%**\n",
        " \n",
        "Your homework submission should contain:\n",
        "1. Fully functional notebook, which has to reproduce all the reported results by clicking on the \"Run all\" button. The notebook must contain the filled in report (see the template in the very end of the notebook).\n",
        "2. Saved weights of the best models `ConvPOSTagger.best.pth` and `TransformerPOSTagger.best.pth` (saving is already implemented for you).\n",
        "3. The screenshots of accuracy curves from Tensorboard for both models on validation dataset.\n",
        "\n",
        "## Tips\n",
        "- Do not start writing code before you have read and understood the theory.\n",
        "- Read all the text in this notebook (hope, you're reading this).\n",
        "- Make one change at a time: never change several things at once (unless you are super confident). Train a model, introduce one change, train again.\n",
        "- Use Tensorboard. If you use [Google Colab](https://colab.research.google.com/) check this [hack](https://stackoverflow.com/a/57791702).\n",
        "- Pay much attention to accuracy and loss curves (e.g. in Tensorboard). Track failures early, stop bad experiments early.\n",
        "- Use GPU. If you don't have it, use [Google Colab](https://colab.research.google.com/).\n",
        "\n",
        " \n",
        "## Disclaimer\n",
        "ConvNets can be better than Transformers in POS-tagging task in the case of small data. In this homework you'll train models on a very small dataset (12 543 train sentences) which is ridiculous on the scale of modern NLP datasets (millions or even billions of sentences!). Anyway, it's very important to understand how Transformers work and to be ready to apply them in a real-world problem with a large dataset, where Transformers outperform other architectures (Conv, RNN, ...) with a large margin.\n",
        "\n",
        "**Good luck and have fun!**"
      ]
    },
    {
      "cell_type": "markdown",
      "metadata": {
        "id": "4pebBfXYj7MD",
        "colab_type": "text"
      },
      "source": [
        "## Imports, setup and handy functions\n",
        "If you don't have some library, just install it with `pip install ...`"
      ]
    },
    {
      "cell_type": "code",
      "metadata": {
        "id": "trMsgTwaj7ME",
        "colab_type": "code",
        "outputId": "288af72f-b2b4-4d57-c517-c262cefbcc89",
        "colab": {
          "base_uri": "https://localhost:8080/",
          "height": 187
        }
      },
      "source": [
        "!pip install torchtext"
      ],
      "execution_count": 69,
      "outputs": [
        {
          "output_type": "stream",
          "text": [
            "Requirement already satisfied: torchtext in /usr/local/lib/python3.6/dist-packages (0.3.1)\n",
            "Requirement already satisfied: requests in /usr/local/lib/python3.6/dist-packages (from torchtext) (2.23.0)\n",
            "Requirement already satisfied: numpy in /usr/local/lib/python3.6/dist-packages (from torchtext) (1.18.4)\n",
            "Requirement already satisfied: torch in /usr/local/lib/python3.6/dist-packages (from torchtext) (1.5.0+cu101)\n",
            "Requirement already satisfied: tqdm in /usr/local/lib/python3.6/dist-packages (from torchtext) (4.41.1)\n",
            "Requirement already satisfied: urllib3!=1.25.0,!=1.25.1,<1.26,>=1.21.1 in /usr/local/lib/python3.6/dist-packages (from requests->torchtext) (1.24.3)\n",
            "Requirement already satisfied: chardet<4,>=3.0.2 in /usr/local/lib/python3.6/dist-packages (from requests->torchtext) (3.0.4)\n",
            "Requirement already satisfied: idna<3,>=2.5 in /usr/local/lib/python3.6/dist-packages (from requests->torchtext) (2.9)\n",
            "Requirement already satisfied: certifi>=2017.4.17 in /usr/local/lib/python3.6/dist-packages (from requests->torchtext) (2020.4.5.1)\n",
            "Requirement already satisfied: future in /usr/local/lib/python3.6/dist-packages (from torch->torchtext) (0.16.0)\n"
          ],
          "name": "stdout"
        }
      ]
    },
    {
      "cell_type": "code",
      "metadata": {
        "id": "MsEbFDMnj7ML",
        "colab_type": "code",
        "colab": {}
      },
      "source": [
        "import os\n",
        "import random\n",
        "from datetime import datetime\n",
        "\n",
        "import numpy as np\n",
        "\n",
        "import torch\n",
        "from torch import nn\n",
        "from torch.utils.tensorboard import SummaryWriter\n",
        "\n",
        "import torchtext\n",
        "import torchtext.datasets\n",
        "import torchtext.data"
      ],
      "execution_count": 0,
      "outputs": []
    },
    {
      "cell_type": "markdown",
      "metadata": {
        "id": "qzAqs9vPj7MP",
        "colab_type": "text"
      },
      "source": [
        "Setup constants:"
      ]
    },
    {
      "cell_type": "code",
      "metadata": {
        "id": "_NyFdymMj7MR",
        "colab_type": "code",
        "outputId": "158dcd82-cb77-4bdd-c64f-7b421d4bdb11",
        "colab": {
          "base_uri": "https://localhost:8080/",
          "height": 34
        }
      },
      "source": [
        "device = torch.device('cuda' if torch.cuda.is_available() else 'cpu')\n",
        "print(f\"Device: {device}\")\n",
        "\n",
        "BATCH_SIZE = 128\n",
        "MAX_LENGTH = 200  # maximum length of the input sentence\n",
        "\n",
        "MIN_TOKEN_FREQUENCY = 10  # minimum occurrence frequency\n",
        "DO_TRAIN_CONV_POSTAGGER = True  # set False not to train Conv POS-tagger TODO"
      ],
      "execution_count": 71,
      "outputs": [
        {
          "output_type": "stream",
          "text": [
            "Device: cuda\n"
          ],
          "name": "stdout"
        }
      ]
    },
    {
      "cell_type": "markdown",
      "metadata": {
        "id": "Z-5O6NbRj7MV",
        "colab_type": "text"
      },
      "source": [
        "Make experiments reproducible. Set random seed for `random`, `numpy`, `torch` and `cuda`/`cudnn`."
      ]
    },
    {
      "cell_type": "code",
      "metadata": {
        "id": "BW9oWRR9j7MV",
        "colab_type": "code",
        "colab": {}
      },
      "source": [
        "seed = 0\n",
        "\n",
        "random.seed(seed)\n",
        "np.random.seed(seed)\n",
        "torch.manual_seed(seed)\n",
        "\n",
        "torch.cuda.manual_seed(seed)\n",
        "torch.backends.cudnn.deterministic = True"
      ],
      "execution_count": 0,
      "outputs": []
    },
    {
      "cell_type": "markdown",
      "metadata": {
        "id": "_Jq5BdzLj7MY",
        "colab_type": "text"
      },
      "source": [
        "Handy function for setting up experiments with Tensorboard logging. By default all the Tensorboard logs will be stored in `./tb` dir."
      ]
    },
    {
      "cell_type": "code",
      "metadata": {
        "id": "zB2D_UC0j7MY",
        "colab_type": "code",
        "colab": {}
      },
      "source": [
        "def setup_experiment(title, logdir=\"./tb\"):\n",
        "    experiment_name = \"{}@{}\".format(title, datetime.now().strftime(\"%d.%m.%Y-%H:%M:%S\"))\n",
        "    writer = SummaryWriter(log_dir=os.path.join(logdir, experiment_name))\n",
        "    best_model_path = f\"{title}.best.pth\"\n",
        "    return writer, experiment_name, best_model_path"
      ],
      "execution_count": 0,
      "outputs": []
    },
    {
      "cell_type": "markdown",
      "metadata": {
        "id": "uYtOtq59j7Mb",
        "colab_type": "text"
      },
      "source": [
        "Model parameters counter:"
      ]
    },
    {
      "cell_type": "code",
      "metadata": {
        "id": "6Pncj1nPj7Mb",
        "colab_type": "code",
        "colab": {}
      },
      "source": [
        "def count_parameters(model):\n",
        "  \n",
        "    return sum(p.numel() for p in model.parameters() if p.requires_grad)"
      ],
      "execution_count": 0,
      "outputs": []
    },
    {
      "cell_type": "markdown",
      "metadata": {
        "id": "b7ZyUxHwj7Md",
        "colab_type": "text"
      },
      "source": [
        "## Load and prepare data"
      ]
    },
    {
      "cell_type": "markdown",
      "metadata": {
        "id": "lVF9TeL4j7Me",
        "colab_type": "text"
      },
      "source": [
        "In this homework you'll use `UDPOS` dataset for POS-tagging. In fact, `UDPOS` dataset is just a collection of pairs `(sequence of words : sequence of corresponding POS-tags)`.\n",
        "\n",
        "\n",
        "For easy access to the dataset, use [torchtext](https://pytorch.org/text/) library. At first glance, [torchtext](https://pytorch.org/text/)'s interfaces look very strange, but after multiple uses you get used to it, and it appears to be a very nice library. Let's define `fields` ([torchtext](https://pytorch.org/text/) abstraction) for text and POS-tags:"
      ]
    },
    {
      "cell_type": "code",
      "metadata": {
        "id": "nkAJLFTAj7Me",
        "colab_type": "code",
        "colab": {}
      },
      "source": [
        "TEXT = torchtext.data.Field(\n",
        "    batch_first=True,\n",
        "    lower=True,  # make lowercase\n",
        "    init_token='<bos>', eos_token='<eos>'  # special tokens: beginning/end of sequence\n",
        ")\n",
        "\n",
        "POSTAG = torchtext.data.Field(\n",
        "    batch_first=True,\n",
        "    init_token='<bos>', eos_token='<eos>'\n",
        ")"
      ],
      "execution_count": 0,
      "outputs": []
    },
    {
      "cell_type": "markdown",
      "metadata": {
        "id": "XZfDRnEnj7Mg",
        "colab_type": "text"
      },
      "source": [
        "Now let's get train/val/test data using defined fields:"
      ]
    },
    {
      "cell_type": "code",
      "metadata": {
        "id": "4ztCcdycj7Mg",
        "colab_type": "code",
        "outputId": "4e37bfa2-9e26-4911-d1f1-a93b4eb9a88a",
        "colab": {
          "base_uri": "https://localhost:8080/",
          "height": 68
        }
      },
      "source": [
        "train_data, val_data, test_data = torchtext.datasets.UDPOS.splits(\n",
        "    fields=(('text', TEXT), ('postag', POSTAG))\n",
        ")\n",
        "\n",
        "print(f\"Train size: {len(train_data)} sequences\")\n",
        "print(f\"Val size: {len(val_data)} sequences\")\n",
        "print(f\"Test size: {len(test_data)} sequences\")"
      ],
      "execution_count": 76,
      "outputs": [
        {
          "output_type": "stream",
          "text": [
            "Train size: 12543 sequences\n",
            "Val size: 2002 sequences\n",
            "Test size: 2077 sequences\n"
          ],
          "name": "stdout"
        }
      ]
    },
    {
      "cell_type": "code",
      "metadata": {
        "id": "cor2WOI5wajG",
        "colab_type": "code",
        "colab": {}
      },
      "source": [
        "\n",
        "array =TEXT.tokenize('I love my cat')"
      ],
      "execution_count": 0,
      "outputs": []
    },
    {
      "cell_type": "markdown",
      "metadata": {
        "id": "Js_muyqKj7Mi",
        "colab_type": "text"
      },
      "source": [
        "Then we build the vocabulary (*note:* using only train data) to get the mapping from token to some unique index:"
      ]
    },
    {
      "cell_type": "code",
      "metadata": {
        "id": "FZxJWm3Mj7Mi",
        "colab_type": "code",
        "colab": {}
      },
      "source": [
        "TEXT.build_vocab(train_data.text, min_freq=MIN_TOKEN_FREQUENCY)  # filter out rarely occured tokens\n",
        "POSTAG.build_vocab(train_data.postag)"
      ],
      "execution_count": 0,
      "outputs": []
    },
    {
      "cell_type": "markdown",
      "metadata": {
        "id": "_ZdtCWW0j7Mk",
        "colab_type": "text"
      },
      "source": [
        "To convert from token to unique index use `.vocab.stoi[...]` method (`.vocab.itos[...]` for inverse mapping). Here we collect unique indices of `padding` special tokens to use them later:"
      ]
    },
    {
      "cell_type": "code",
      "metadata": {
        "id": "DBImYsXpj7Mk",
        "colab_type": "code",
        "outputId": "6188f644-98a4-4e86-ffad-50d367fafe3f",
        "colab": {
          "base_uri": "https://localhost:8080/",
          "height": 34
        }
      },
      "source": [
        "TEXT_PAD_IDX = TEXT.vocab.stoi[TEXT.pad_token]\n",
        "POSTAG_PAD_IDX = POSTAG.vocab.stoi[POSTAG.pad_token]\n",
        "print(f\"TEXT_PAD_IDX={TEXT_PAD_IDX}, POSTAG_PAD_IDX={POSTAG_PAD_IDX}\")"
      ],
      "execution_count": 79,
      "outputs": [
        {
          "output_type": "stream",
          "text": [
            "TEXT_PAD_IDX=1, POSTAG_PAD_IDX=1\n"
          ],
          "name": "stdout"
        }
      ]
    },
    {
      "cell_type": "markdown",
      "metadata": {
        "id": "DOHHhes2j7Mm",
        "colab_type": "text"
      },
      "source": [
        "Get vocabulary sizes:"
      ]
    },
    {
      "cell_type": "code",
      "metadata": {
        "id": "4lUE7iSQj7Mm",
        "colab_type": "code",
        "outputId": "78122393-51d7-43c3-e2c6-104a64508135",
        "colab": {
          "base_uri": "https://localhost:8080/",
          "height": 68
        }
      },
      "source": [
        "INPUT_DIM = len(TEXT.vocab)\n",
        "OUTPUT_DIM = len(POSTAG.vocab)\n",
        "print(f\"Number of unique words: {INPUT_DIM}\")\n",
        "print(f\"Number of unique POS-tags: {OUTPUT_DIM}\")\n",
        "print(\"All POS-tags:\", ' '.join(POSTAG.vocab.freqs.keys()))"
      ],
      "execution_count": 80,
      "outputs": [
        {
          "output_type": "stream",
          "text": [
            "Number of unique words: 2139\n",
            "Number of unique POS-tags: 21\n",
            "All POS-tags: PROPN PUNCT ADJ NOUN VERB DET ADP AUX PRON PART SCONJ NUM ADV CCONJ X INTJ SYM\n"
          ],
          "name": "stdout"
        }
      ]
    },
    {
      "cell_type": "code",
      "metadata": {
        "id": "hWQPoRHUj7Mq",
        "colab_type": "code",
        "colab": {}
      },
      "source": [
        "train_iterator, val_iterator, test_iterator = torchtext.data.BucketIterator.splits(\n",
        "    (train_data, val_data, test_data), \n",
        "     batch_size=BATCH_SIZE,\n",
        "     device=device\n",
        ")"
      ],
      "execution_count": 0,
      "outputs": []
    },
    {
      "cell_type": "markdown",
      "metadata": {
        "id": "JQhCA_g3j7Ms",
        "colab_type": "text"
      },
      "source": [
        "Let's grab a batch and look inside:"
      ]
    },
    {
      "cell_type": "code",
      "metadata": {
        "id": "rEPENhfdj7Mt",
        "colab_type": "code",
        "outputId": "087a8c70-f221-49ff-e1c6-0572c2be18e9",
        "colab": {
          "base_uri": "https://localhost:8080/",
          "height": 51
        }
      },
      "source": [
        "batch = next(iter(train_iterator))\n",
        "text, postag = batch.text, batch.postag\n",
        "\n",
        "print(f\"text.shape={text.shape} – [bs, seq_len]\")\n",
        "print(f\"postag.shape={postag.shape} – [bs, seq_len]\")"
      ],
      "execution_count": 82,
      "outputs": [
        {
          "output_type": "stream",
          "text": [
            "text.shape=torch.Size([128, 50]) – [bs, seq_len]\n",
            "postag.shape=torch.Size([128, 50]) – [bs, seq_len]\n"
          ],
          "name": "stdout"
        }
      ]
    },
    {
      "cell_type": "markdown",
      "metadata": {
        "id": "eCbUXQufj7Mv",
        "colab_type": "text"
      },
      "source": [
        "Well, that's all about the data!"
      ]
    },
    {
      "cell_type": "markdown",
      "metadata": {
        "id": "-EKxJTgWj7Mv",
        "colab_type": "text"
      },
      "source": [
        "## Conv POS-tagger (baseline)"
      ]
    },
    {
      "cell_type": "markdown",
      "metadata": {
        "id": "tumFRPI-j7Mv",
        "colab_type": "text"
      },
      "source": [
        "Before building the baseline model, let's first formalize our task.\n",
        "\n",
        "POS-tagging is a \"sequence-to-sequence\" task, where input and output have the **same length**. Unlike, e.g. machine translation, where the output (translation) can be of any size, in POS-tagging input and output are **aligned**. The number of POS-tags is fixed and not large. So, formally speaking, POS-tagging is a classification problem, but the length of the input can vary.\n",
        "\n",
        "ConvNets are really good at this kind of task. So, let's implement some simple model consisting of Conv1d layers (with kernels of size 1 => no context is used). Here's the principal scheme:\n",
        "\n",
        "![](https://raw.githubusercontent.com/karfly/learning-deep-learning/master/09_transformer/static/conv-postagger.png)\n",
        "\n",
        "The main steps are as follows:\n",
        "1. Get embeddings of the input sequence\n",
        "2. Process the embedded sequence with $N$ Conv1d layers. The number of output channels of the final conv layer equals to the the number of unique POS-tags (`output_dim`)\n",
        "\n",
        "Here's the code:"
      ]
    },
    {
      "cell_type": "code",
      "metadata": {
        "id": "WHMF-c7Mj7Mw",
        "colab_type": "code",
        "colab": {}
      },
      "source": [
        "class ConvPOSTagger(nn.Module):\n",
        "    def __init__(self, n_tokens, hid_dim, output_dim):\n",
        "        \"\"\" \n",
        "        x -> Embedding -> Conv -> ReLU -> Conv -> ReLU -> Conv -> ReLU -> Conv\n",
        "        \n",
        "        n_tokens: # of unique tokens\n",
        "        hid_dim: # of channels of intermediate layers (with expansion)\n",
        "        output_dim: # of unique POS-tags)\n",
        "        \"\"\"\n",
        "        super().__init__()\n",
        "\n",
        "        self.emb = nn.Embedding(n_tokens, hid_dim)\n",
        "        \n",
        "        # here we use conv layer with kernel size = 1 as a baseline\n",
        "        # in fact, such model is identical to multiple linear layes applied to each embedded token\n",
        "        # you can try to increase the kernel size and see how good ConvNets are in POS-tagging when small amount of data is available\n",
        "        self.layers = nn.Sequential(\n",
        "            nn.Conv1d(hid_dim, 2 * hid_dim, kernel_size=1),\n",
        "            nn.ReLU(inplace=True),\n",
        "            \n",
        "            nn.Conv1d(2 * hid_dim, 4 * hid_dim, kernel_size=1),\n",
        "            nn.ReLU(inplace=True),\n",
        "            \n",
        "            nn.Conv1d(4 * hid_dim, 8 * hid_dim, kernel_size=1),\n",
        "            nn.ReLU(inplace=True),\n",
        "            \n",
        "            nn.Conv1d(8 * hid_dim, output_dim, kernel_size=1)  # note: no activation here\n",
        "        )\n",
        "\n",
        "    def forward(self, x):\n",
        "        \"\"\"\n",
        "        x: torch.long tensor of shape [batch_size, sequence_length]\n",
        "        returns: torch.float32 tensor of shape [batch_size, sequence_length, output_dim]\n",
        "        \"\"\"\n",
        "        x = self.emb(x)  # get embeddings\n",
        "        \n",
        "        # transpose from [batch, time, units] to [batch, units, time] to fit Conv1d dim order\n",
        "        x = torch.transpose(x, 1, 2)\n",
        "        \n",
        "        # encode\n",
        "        x = self.layers(x)\n",
        "        \n",
        "        # transpose back to [batch, time, units]\n",
        "        x = torch.transpose(x, 1, 2)\n",
        "        \n",
        "        return x"
      ],
      "execution_count": 0,
      "outputs": []
    },
    {
      "cell_type": "markdown",
      "metadata": {
        "id": "OLIrDzOsj7Mx",
        "colab_type": "text"
      },
      "source": [
        "Test it:"
      ]
    },
    {
      "cell_type": "code",
      "metadata": {
        "id": "f5FThiZEj7My",
        "colab_type": "code",
        "outputId": "e1e5c755-e916-4864-a560-bfc0b0c53bb4",
        "colab": {
          "base_uri": "https://localhost:8080/",
          "height": 34
        }
      },
      "source": [
        "model = ConvPOSTagger(INPUT_DIM, 64, OUTPUT_DIM).to(device)\n",
        "dummy_input = text\n",
        "dummy_output = model(dummy_input.to(device))\n",
        "\n",
        "print(f\"dummy_output.shape={dummy_output.shape}\")"
      ],
      "execution_count": 0,
      "outputs": [
        {
          "output_type": "stream",
          "text": [
            "dummy_output.shape=torch.Size([128, 50, 21])\n"
          ],
          "name": "stdout"
        }
      ]
    },
    {
      "cell_type": "markdown",
      "metadata": {
        "id": "zVfTkp-ij7Mz",
        "colab_type": "text"
      },
      "source": [
        "## (3 points) Training pipeline"
      ]
    },
    {
      "cell_type": "markdown",
      "metadata": {
        "id": "EoJ0fOHOj7Mz",
        "colab_type": "text"
      },
      "source": [
        "Any loss function, suitable for classification, will also work for us, so we'll choose the obvious option – [nn.CrossEntropyLoss](https://pytorch.org/docs/stable/nn.html#crossentropyloss) criterion. Make sure to ignore losses calculated over `<pad>` tokens, not to add noise to the total loss."
      ]
    },
    {
      "cell_type": "code",
      "metadata": {
        "id": "kLfO_vRzj7M0",
        "colab_type": "code",
        "colab": {}
      },
      "source": [
        "criterion = nn.CrossEntropyLoss(ignore_index=POSTAG_PAD_IDX)"
      ],
      "execution_count": 0,
      "outputs": []
    },
    {
      "cell_type": "markdown",
      "metadata": {
        "id": "0IZ_0fGij7M1",
        "colab_type": "text"
      },
      "source": [
        "Next let's setup our model, optimizier and experiment:"
      ]
    },
    {
      "cell_type": "code",
      "metadata": {
        "id": "HWk8fqjhj7M2",
        "colab_type": "code",
        "outputId": "09f5e276-0a2b-4c45-a7be-e4c76bdaa3d3",
        "colab": {
          "base_uri": "https://localhost:8080/",
          "height": 34
        }
      },
      "source": [
        "model = ConvPOSTagger(INPUT_DIM, 64, OUTPUT_DIM).to(device)\n",
        "optimizer = torch.optim.Adam(model.parameters())\n",
        "\n",
        "writer, experiment_name, best_model_path = setup_experiment(model.__class__.__name__, logdir=\"./tb\")\n",
        "print(f\"Experiment name: {experiment_name}\")"
      ],
      "execution_count": 0,
      "outputs": [
        {
          "output_type": "stream",
          "text": [
            "Experiment name: ConvPOSTagger@24.05.2020-12:46:27\n"
          ],
          "name": "stdout"
        }
      ]
    },
    {
      "cell_type": "markdown",
      "metadata": {
        "id": "VxrX5R7xj7M3",
        "colab_type": "text"
      },
      "source": [
        "Let's count the total number of models' parameters:"
      ]
    },
    {
      "cell_type": "code",
      "metadata": {
        "id": "yZLEi2Ooj7M4",
        "colab_type": "code",
        "outputId": "632a09ae-ad77-4ea8-c431-fa548de15b97",
        "colab": {
          "base_uri": "https://localhost:8080/",
          "height": 34
        }
      },
      "source": [
        "print(f\"Model has {count_parameters(model):,} trainable parameters\")"
      ],
      "execution_count": 0,
      "outputs": [
        {
          "output_type": "stream",
          "text": [
            "Model has 320,597 trainable parameters\n"
          ],
          "name": "stdout"
        }
      ]
    },
    {
      "cell_type": "markdown",
      "metadata": {
        "id": "faJX_6cNj7M5",
        "colab_type": "text"
      },
      "source": [
        "A common practice in training deep learning models is to a create single-function `run_epoch(...)`, which can be used both for training and evaluation (see `phase` parameter). Here you need to implement forward of the model and the loss calculation. Good news is that you'll reuse this function later for training the Transformer model."
      ]
    },
    {
      "cell_type": "code",
      "metadata": {
        "id": "_l3zcNBej7M5",
        "colab_type": "code",
        "colab": {}
      },
      "source": [
        "def run_epoch(model, iterator, optimizer, criterion, phase='train', epoch=0, writer=None):\n",
        "    is_train = (phase == 'train')\n",
        "    if is_train:\n",
        "        model.train()\n",
        "    else:\n",
        "        model.eval()\n",
        "    \n",
        "    epoch_loss = 0\n",
        "\n",
        "    # variables for calculating accuracy\n",
        "    n_predicted = 0\n",
        "    n_true_predicted = 0\n",
        "    \n",
        "    with torch.set_grad_enabled(is_train):\n",
        "        for i, batch in enumerate(iterator):\n",
        "            global_i = len(iterator) * epoch + i\n",
        "            \n",
        "            # unpack batch\n",
        "            text, postag = batch.text, batch.postag\n",
        "\n",
        "            \n",
        "            # make prediction\n",
        "            ## your code here\n",
        "            predictions =  model(text)\n",
        "            \n",
        "            # reshape prediction to [-1, output_dim]\n",
        "            pred = predictions.reshape(-1,21)\n",
        "            ## your code here\n",
        "            \n",
        "            # reshape gt labels to [-1, ]\n",
        "            gt = postag.reshape(-1,)\n",
        "            ## your code here\n",
        "            # print(predictions.shape , gt.shape, pred.shape)\n",
        "            \n",
        "            # calculate loss\n",
        "            ## your code here\n",
        "            loss = criterion(pred, gt)\n",
        "            \n",
        "           \n",
        "            \n",
        "            if is_train:\n",
        "              optimizer.zero_grad()\n",
        "              loss.backward()\n",
        "              optimizer.step()\n",
        "                # make optimization step\n",
        "                ## your code here\n",
        "\n",
        "                \n",
        "            # calculate accuracy\n",
        "            n_true_predicted += torch.sum((pred.argmax(-1) == gt) * (gt != POSTAG_PAD_IDX)).item()  # don't calculate pad token\n",
        "            n_predicted += torch.sum(gt != POSTAG_PAD_IDX).item()\n",
        "            \n",
        "            # dump train metrics to tensorboard\n",
        "            if writer is not None and is_train:\n",
        "                writer.add_scalar(f\"loss/{phase}\", loss.item(), global_i)\n",
        "                \n",
        "            epoch_loss += loss.item()\n",
        "\n",
        "        # dump epoch metrics to tensorboard\n",
        "        if writer is not None:\n",
        "            writer.add_scalar(f\"loss_epoch/{phase}\", epoch_loss / len(iterator), epoch)\n",
        "            writer.add_scalar(f\"accuracy_epoch/{phase}\", n_true_predicted / n_predicted, epoch)\n",
        "\n",
        "        return epoch_loss / len(iterator), n_true_predicted / n_predicted"
      ],
      "execution_count": 0,
      "outputs": []
    },
    {
      "cell_type": "markdown",
      "metadata": {
        "id": "r1KBng8cj7M7",
        "colab_type": "text"
      },
      "source": [
        "And it's time to train the model. All logs are dumped to `Tesorboard`, so go there and enjoy your beautiful loss curves."
      ]
    },
    {
      "cell_type": "code",
      "metadata": {
        "scrolled": true,
        "id": "_YuTkPXRj7M7",
        "colab_type": "code",
        "outputId": "e18f34e8-7f3f-4b2d-baba-03dd78d07acf",
        "colab": {
          "base_uri": "https://localhost:8080/",
          "height": 1000
        }
      },
      "source": [
        "n_epochs = 50\n",
        "if not DO_TRAIN_CONV_POSTAGGER:\n",
        "    n_epochs = 0\n",
        "\n",
        "best_val_loss = float('+inf')\n",
        "for epoch in range(n_epochs):    \n",
        "    train_loss, train_accuracy = run_epoch(model, train_iterator, optimizer, criterion, phase='train', epoch=epoch, writer=writer)\n",
        "    val_loss, val_accuracy = run_epoch(model, val_iterator, None, criterion, phase='val', epoch=epoch, writer=writer)\n",
        "    \n",
        "    if val_loss < best_val_loss:\n",
        "        best_val_loss = val_loss\n",
        "        torch.save(model.state_dict(), best_model_path)\n",
        "    \n",
        "    print(f'Epoch: {epoch+1:02}')\n",
        "    print(f'\\tTrain Loss: {train_loss:.3f} | Train accuracy: {train_accuracy * 100:.2f}')\n",
        "    print(f'\\t Val. Loss: {val_loss:.3f} |  Val. accuracy: {val_accuracy * 100:.2f}') "
      ],
      "execution_count": 0,
      "outputs": [
        {
          "output_type": "stream",
          "text": [
            "Epoch: 01\n",
            "\tTrain Loss: 1.289 | Train accuracy: 60.61\n",
            "\t Val. Loss: 0.719 |  Val. accuracy: 74.93\n",
            "Epoch: 02\n",
            "\tTrain Loss: 0.637 | Train accuracy: 78.14\n",
            "\t Val. Loss: 0.562 |  Val. accuracy: 79.90\n",
            "Epoch: 03\n",
            "\tTrain Loss: 0.514 | Train accuracy: 82.18\n",
            "\t Val. Loss: 0.506 |  Val. accuracy: 82.21\n",
            "Epoch: 04\n",
            "\tTrain Loss: 0.468 | Train accuracy: 83.49\n",
            "\t Val. Loss: 0.490 |  Val. accuracy: 82.61\n",
            "Epoch: 05\n",
            "\tTrain Loss: 0.452 | Train accuracy: 83.72\n",
            "\t Val. Loss: 0.484 |  Val. accuracy: 82.60\n",
            "Epoch: 06\n",
            "\tTrain Loss: 0.444 | Train accuracy: 83.82\n",
            "\t Val. Loss: 0.474 |  Val. accuracy: 82.39\n",
            "Epoch: 07\n",
            "\tTrain Loss: 0.438 | Train accuracy: 83.89\n",
            "\t Val. Loss: 0.472 |  Val. accuracy: 82.49\n",
            "Epoch: 08\n",
            "\tTrain Loss: 0.436 | Train accuracy: 83.88\n",
            "\t Val. Loss: 0.475 |  Val. accuracy: 82.70\n",
            "Epoch: 09\n",
            "\tTrain Loss: 0.433 | Train accuracy: 83.91\n",
            "\t Val. Loss: 0.472 |  Val. accuracy: 82.62\n",
            "Epoch: 10\n",
            "\tTrain Loss: 0.434 | Train accuracy: 83.88\n",
            "\t Val. Loss: 0.473 |  Val. accuracy: 82.76\n",
            "Epoch: 11\n",
            "\tTrain Loss: 0.431 | Train accuracy: 83.91\n",
            "\t Val. Loss: 0.474 |  Val. accuracy: 82.82\n",
            "Epoch: 12\n",
            "\tTrain Loss: 0.430 | Train accuracy: 83.93\n",
            "\t Val. Loss: 0.478 |  Val. accuracy: 82.70\n",
            "Epoch: 13\n",
            "\tTrain Loss: 0.429 | Train accuracy: 83.95\n",
            "\t Val. Loss: 0.470 |  Val. accuracy: 82.66\n",
            "Epoch: 14\n",
            "\tTrain Loss: 0.427 | Train accuracy: 83.96\n",
            "\t Val. Loss: 0.478 |  Val. accuracy: 82.72\n",
            "Epoch: 15\n",
            "\tTrain Loss: 0.428 | Train accuracy: 83.92\n",
            "\t Val. Loss: 0.470 |  Val. accuracy: 82.79\n",
            "Epoch: 16\n",
            "\tTrain Loss: 0.427 | Train accuracy: 83.98\n",
            "\t Val. Loss: 0.469 |  Val. accuracy: 82.49\n",
            "Epoch: 17\n",
            "\tTrain Loss: 0.427 | Train accuracy: 83.95\n",
            "\t Val. Loss: 0.478 |  Val. accuracy: 82.71\n",
            "Epoch: 18\n",
            "\tTrain Loss: 0.426 | Train accuracy: 83.99\n",
            "\t Val. Loss: 0.466 |  Val. accuracy: 82.80\n",
            "Epoch: 19\n",
            "\tTrain Loss: 0.426 | Train accuracy: 83.99\n",
            "\t Val. Loss: 0.470 |  Val. accuracy: 82.72\n",
            "Epoch: 20\n",
            "\tTrain Loss: 0.426 | Train accuracy: 83.98\n",
            "\t Val. Loss: 0.470 |  Val. accuracy: 82.67\n",
            "Epoch: 21\n",
            "\tTrain Loss: 0.425 | Train accuracy: 83.98\n",
            "\t Val. Loss: 0.466 |  Val. accuracy: 82.52\n",
            "Epoch: 22\n",
            "\tTrain Loss: 0.425 | Train accuracy: 83.98\n",
            "\t Val. Loss: 0.471 |  Val. accuracy: 82.70\n",
            "Epoch: 23\n",
            "\tTrain Loss: 0.425 | Train accuracy: 84.00\n",
            "\t Val. Loss: 0.472 |  Val. accuracy: 82.57\n",
            "Epoch: 24\n",
            "\tTrain Loss: 0.425 | Train accuracy: 83.98\n",
            "\t Val. Loss: 0.471 |  Val. accuracy: 82.59\n",
            "Epoch: 25\n",
            "\tTrain Loss: 0.424 | Train accuracy: 84.03\n",
            "\t Val. Loss: 0.467 |  Val. accuracy: 82.45\n",
            "Epoch: 26\n",
            "\tTrain Loss: 0.424 | Train accuracy: 83.97\n",
            "\t Val. Loss: 0.471 |  Val. accuracy: 82.72\n",
            "Epoch: 27\n",
            "\tTrain Loss: 0.423 | Train accuracy: 84.02\n",
            "\t Val. Loss: 0.471 |  Val. accuracy: 82.69\n",
            "Epoch: 28\n",
            "\tTrain Loss: 0.424 | Train accuracy: 84.04\n",
            "\t Val. Loss: 0.465 |  Val. accuracy: 82.83\n",
            "Epoch: 29\n",
            "\tTrain Loss: 0.423 | Train accuracy: 84.05\n",
            "\t Val. Loss: 0.473 |  Val. accuracy: 82.70\n",
            "Epoch: 30\n",
            "\tTrain Loss: 0.422 | Train accuracy: 84.04\n",
            "\t Val. Loss: 0.469 |  Val. accuracy: 82.78\n",
            "Epoch: 31\n",
            "\tTrain Loss: 0.423 | Train accuracy: 84.02\n",
            "\t Val. Loss: 0.475 |  Val. accuracy: 82.79\n",
            "Epoch: 32\n",
            "\tTrain Loss: 0.422 | Train accuracy: 84.04\n",
            "\t Val. Loss: 0.467 |  Val. accuracy: 82.92\n",
            "Epoch: 33\n",
            "\tTrain Loss: 0.421 | Train accuracy: 84.10\n",
            "\t Val. Loss: 0.471 |  Val. accuracy: 82.84\n",
            "Epoch: 34\n",
            "\tTrain Loss: 0.422 | Train accuracy: 84.05\n",
            "\t Val. Loss: 0.468 |  Val. accuracy: 82.91\n",
            "Epoch: 35\n",
            "\tTrain Loss: 0.422 | Train accuracy: 84.08\n",
            "\t Val. Loss: 0.469 |  Val. accuracy: 82.87\n",
            "Epoch: 36\n",
            "\tTrain Loss: 0.422 | Train accuracy: 84.05\n",
            "\t Val. Loss: 0.467 |  Val. accuracy: 82.74\n",
            "Epoch: 37\n",
            "\tTrain Loss: 0.421 | Train accuracy: 84.06\n",
            "\t Val. Loss: 0.466 |  Val. accuracy: 82.85\n",
            "Epoch: 38\n",
            "\tTrain Loss: 0.421 | Train accuracy: 84.06\n",
            "\t Val. Loss: 0.464 |  Val. accuracy: 82.89\n",
            "Epoch: 39\n",
            "\tTrain Loss: 0.421 | Train accuracy: 84.11\n",
            "\t Val. Loss: 0.466 |  Val. accuracy: 82.95\n",
            "Epoch: 40\n",
            "\tTrain Loss: 0.421 | Train accuracy: 84.06\n",
            "\t Val. Loss: 0.474 |  Val. accuracy: 82.80\n",
            "Epoch: 41\n",
            "\tTrain Loss: 0.420 | Train accuracy: 84.09\n",
            "\t Val. Loss: 0.469 |  Val. accuracy: 82.96\n",
            "Epoch: 42\n",
            "\tTrain Loss: 0.420 | Train accuracy: 84.09\n",
            "\t Val. Loss: 0.471 |  Val. accuracy: 82.73\n",
            "Epoch: 43\n",
            "\tTrain Loss: 0.420 | Train accuracy: 84.13\n",
            "\t Val. Loss: 0.466 |  Val. accuracy: 82.90\n",
            "Epoch: 44\n",
            "\tTrain Loss: 0.420 | Train accuracy: 84.08\n",
            "\t Val. Loss: 0.470 |  Val. accuracy: 82.85\n",
            "Epoch: 45\n",
            "\tTrain Loss: 0.420 | Train accuracy: 84.11\n",
            "\t Val. Loss: 0.465 |  Val. accuracy: 82.86\n",
            "Epoch: 46\n",
            "\tTrain Loss: 0.420 | Train accuracy: 84.08\n",
            "\t Val. Loss: 0.473 |  Val. accuracy: 82.90\n",
            "Epoch: 47\n",
            "\tTrain Loss: 0.420 | Train accuracy: 84.09\n",
            "\t Val. Loss: 0.466 |  Val. accuracy: 82.90\n",
            "Epoch: 48\n",
            "\tTrain Loss: 0.420 | Train accuracy: 84.12\n",
            "\t Val. Loss: 0.467 |  Val. accuracy: 82.91\n",
            "Epoch: 49\n",
            "\tTrain Loss: 0.419 | Train accuracy: 84.15\n",
            "\t Val. Loss: 0.472 |  Val. accuracy: 82.90\n",
            "Epoch: 50\n",
            "\tTrain Loss: 0.419 | Train accuracy: 84.15\n",
            "\t Val. Loss: 0.474 |  Val. accuracy: 82.80\n"
          ],
          "name": "stdout"
        }
      ]
    },
    {
      "cell_type": "markdown",
      "metadata": {
        "id": "tNaizTWTj7M8",
        "colab_type": "text"
      },
      "source": [
        "Now we can load our best model and evaluate it on the test set:"
      ]
    },
    {
      "cell_type": "code",
      "metadata": {
        "id": "a1gWuIcqj7M8",
        "colab_type": "code",
        "outputId": "efac0132-378e-4b6a-f181-5fac4f5dab86",
        "colab": {
          "base_uri": "https://localhost:8080/",
          "height": 34
        }
      },
      "source": [
        "model.load_state_dict(torch.load(best_model_path))\n",
        "test_loss, test_accuracy = run_epoch(model, test_iterator, None, criterion, phase='val')\n",
        "print(f'Test Loss: {test_loss:.3f} | Test accuracy: {test_accuracy*100:7.2f}')"
      ],
      "execution_count": 0,
      "outputs": [
        {
          "output_type": "stream",
          "text": [
            "Test Loss: 0.468 | Test accuracy:   83.05\n"
          ],
          "name": "stdout"
        }
      ]
    },
    {
      "cell_type": "markdown",
      "metadata": {
        "id": "7tuFlGFyj7M-",
        "colab_type": "text"
      },
      "source": [
        "Next we'll implement functions to infer our model on any given sentence and display the outputs:"
      ]
    },
    {
      "cell_type": "code",
      "metadata": {
        "id": "INQ12G9Vj7M-",
        "colab_type": "code",
        "colab": {}
      },
      "source": [
        "def infer_model(sentence, model, device):\n",
        "    model.eval()\n",
        "    \n",
        "    # get tokens\n",
        "    if isinstance(sentence, str):\n",
        "        tokens = [token.lower() for token in sentence.split(' ')]  # split if string\n",
        "    else:\n",
        "        tokens = [token.lower() for token in sentence]\n",
        "    \n",
        "    # add <bos> and <eos> special tokens to the beginning and to the end\n",
        "    # print(tokens)\n",
        "    tokens.insert(0, '<bos>')\n",
        "    # print(tokens)\n",
        "    tokens.append('eos')\n",
        "    # tokens = TEXT.build_vocab(tokens, min_freq=MIN_TOKEN_FREQUENCY)\n",
        "    # convert tokens to indices\n",
        "    indices = [TEXT.vocab.stoi[i] for i in tokens]\n",
        "    # indices = POSTAG.build_vocab(tokens.postag)\n",
        "    indices = torch.LongTensor(indices).unsqueeze(0).to(device)\n",
        "\n",
        "    # make predictions\n",
        "    with torch.no_grad():\n",
        "        pred = model(indices)\n",
        "    \n",
        "    # print(pred)\n",
        "    # extract pos-tags indices from predictions using .argmax(...)\n",
        "    # print(pred.shape[1])\n",
        "    pred_postag_indices = [ np.argmax(i) for i in pred[0]]\n",
        "    # print('pred_postag_indices', pred_postag_indices)\n",
        "    \n",
        "    # convert from indices to pos-tags\n",
        "    pred_postags =  [ POSTAG.vocab.itos[i] for i in pred_postag_indices]## your code here\n",
        "    \n",
        "    # cut off <bos> and <eos>\n",
        "    tokens = tokens[1:-1]\n",
        "    pred_postags = pred_postags[1:-1]\n",
        "\n",
        "    return tokens, pred_postags\n",
        "\n",
        "\n",
        "def print_predictions(tokens, pred_postags, gt_postags=None):\n",
        "    print(\"===> Input sentence:\", ' '.join(tokens))\n",
        "    print()\n",
        "    \n",
        "    if gt_postags is not None:\n",
        "        # print(gt_postags)\n",
        "        # print(tokens)\n",
        "        # print(pred_postags)\n",
        "        print(\"Pred. POS-tag\\tGT POS-tag\\tCorrect?\\tToken\\n\")\n",
        "        for token, pred_postag, gt_postag in zip(tokens, pred_postags, gt_postags):\n",
        "            # print(1)\n",
        "            correct = 'y' if pred_postag == gt_postag else 'n'\n",
        "            print(f\"{pred_postag}\\t\\t{gt_postag}\\t\\t{correct}\\t\\t{token}\")\n",
        "            # print(correct)\n",
        "    else:\n",
        "        print(\"Pred. POS-tag\\tToken\\n\")\n",
        "\n",
        "        for token, pred_postag in zip(tokens, pred_postags):\n",
        "            print(f\"{pred_postag}\\t\\t{token}\")\n",
        "    print()"
      ],
      "execution_count": 0,
      "outputs": []
    },
    {
      "cell_type": "code",
      "metadata": {
        "id": "mRrTopyoSMAt",
        "colab_type": "code",
        "outputId": "839e7d03-c005-4027-fbaa-85bcf423484e",
        "colab": {
          "base_uri": "https://localhost:8080/",
          "height": 34
        }
      },
      "source": [
        "test_data.examples[0].postag"
      ],
      "execution_count": 0,
      "outputs": [
        {
          "output_type": "execute_result",
          "data": {
            "text/plain": [
              "['PRON', 'SCONJ', 'PROPN', 'VERB', 'ADP', 'PROPN', 'PUNCT']"
            ]
          },
          "metadata": {
            "tags": []
          },
          "execution_count": 58
        }
      ]
    },
    {
      "cell_type": "markdown",
      "metadata": {
        "id": "TIciPmAwj7M_",
        "colab_type": "text"
      },
      "source": [
        "Sentences from the test set:"
      ]
    },
    {
      "cell_type": "code",
      "metadata": {
        "id": "C_ZsZkDZj7M_",
        "colab_type": "code",
        "outputId": "55fe3f21-6c6d-4455-9dae-64b18107960f",
        "colab": {
          "base_uri": "https://localhost:8080/",
          "height": 510
        }
      },
      "source": [
        "example_index = np.random.randint(0, len(test_data.examples))\n",
        "\n",
        "sentence = test_data.examples[example_index].text\n",
        "gt_postags = test_data.examples[example_index].postag\n",
        "tokens, pred_postags = infer_model(sentence, model, device)\n",
        "\n",
        "print_predictions(tokens, pred_postags, gt_postags)"
      ],
      "execution_count": 0,
      "outputs": [
        {
          "output_type": "stream",
          "text": [
            "===> Input sentence: when the french returned to indochina at the end of ww ii the viet minh were in control of the red river delta .\n",
            "\n",
            "Pred. POS-tag\tGT POS-tag\tCorrect?\tToken\n",
            "\n",
            "ADV\t\tADV\t\ty\t\twhen\n",
            "DET\t\tDET\t\ty\t\tthe\n",
            "ADJ\t\tPROPN\t\tn\t\tfrench\n",
            "VERB\t\tVERB\t\ty\t\treturned\n",
            "PART\t\tADP\t\tn\t\tto\n",
            "NOUN\t\tPROPN\t\tn\t\tindochina\n",
            "ADP\t\tADP\t\ty\t\tat\n",
            "DET\t\tDET\t\ty\t\tthe\n",
            "NOUN\t\tNOUN\t\ty\t\tend\n",
            "ADP\t\tADP\t\ty\t\tof\n",
            "NOUN\t\tPROPN\t\tn\t\tww\n",
            "PROPN\t\tPROPN\t\ty\t\tii\n",
            "DET\t\tDET\t\ty\t\tthe\n",
            "NOUN\t\tPROPN\t\tn\t\tviet\n",
            "NOUN\t\tPROPN\t\tn\t\tminh\n",
            "AUX\t\tAUX\t\ty\t\twere\n",
            "ADP\t\tADP\t\ty\t\tin\n",
            "NOUN\t\tNOUN\t\ty\t\tcontrol\n",
            "ADP\t\tADP\t\ty\t\tof\n",
            "DET\t\tDET\t\ty\t\tthe\n",
            "PROPN\t\tPROPN\t\ty\t\tred\n",
            "PROPN\t\tPROPN\t\ty\t\triver\n",
            "NOUN\t\tPROPN\t\tn\t\tdelta\n",
            "PUNCT\t\tPUNCT\t\ty\t\t.\n",
            "\n"
          ],
          "name": "stdout"
        }
      ]
    },
    {
      "cell_type": "markdown",
      "metadata": {
        "id": "jSuoTAWcj7NC",
        "colab_type": "text"
      },
      "source": [
        "And here we can try to POS-tag our own sentences. **Likely** the baseline model will fail in the third sentence and tag `bear` as a `NOUN`, not `VERB`. Why?"
      ]
    },
    {
      "cell_type": "code",
      "metadata": {
        "id": "t5787Dvjj7NC",
        "colab_type": "code",
        "outputId": "e39b8388-731e-460b-9671-c8fee0063765",
        "colab": {
          "base_uri": "https://localhost:8080/",
          "height": 731
        }
      },
      "source": [
        "sentence = 'I will definitely pass this homework'\n",
        "print_predictions(*infer_model(sentence, model, device))\n",
        "\n",
        "sentence = 'Look , there is a bear'\n",
        "print_predictions(*infer_model(sentence, model, device))\n",
        "\n",
        "sentence = 'I can not bear it anymore'\n",
        "print_predictions(*infer_model(sentence, model, device))\n",
        "\n",
        "sentence = 'I love my cat'\n",
        "print_predictions(*infer_model(sentence, model, device))"
      ],
      "execution_count": 0,
      "outputs": [
        {
          "output_type": "stream",
          "text": [
            "===> Input sentence: i will definitely pass this homework\n",
            "\n",
            "Pred. POS-tag\tToken\n",
            "\n",
            "PRON\t\ti\n",
            "AUX\t\twill\n",
            "ADV\t\tdefinitely\n",
            "VERB\t\tpass\n",
            "DET\t\tthis\n",
            "NOUN\t\thomework\n",
            "\n",
            "===> Input sentence: look , there is a bear\n",
            "\n",
            "Pred. POS-tag\tToken\n",
            "\n",
            "VERB\t\tlook\n",
            "PUNCT\t\t,\n",
            "PRON\t\tthere\n",
            "AUX\t\tis\n",
            "DET\t\ta\n",
            "NOUN\t\tbear\n",
            "\n",
            "===> Input sentence: i can not bear it anymore\n",
            "\n",
            "Pred. POS-tag\tToken\n",
            "\n",
            "PRON\t\ti\n",
            "AUX\t\tcan\n",
            "PART\t\tnot\n",
            "NOUN\t\tbear\n",
            "PRON\t\tit\n",
            "NOUN\t\tanymore\n",
            "\n",
            "===> Input sentence: i love my cat\n",
            "\n",
            "Pred. POS-tag\tToken\n",
            "\n",
            "PRON\t\ti\n",
            "VERB\t\tlove\n",
            "PRON\t\tmy\n",
            "NOUN\t\tcat\n",
            "\n"
          ],
          "name": "stdout"
        }
      ]
    },
    {
      "cell_type": "markdown",
      "metadata": {
        "id": "_jGN_S7mj7NE",
        "colab_type": "text"
      },
      "source": [
        "## (7 points) Transformer\n",
        "\n",
        "In this part you will implement a slightly modified version of the Transformer model from the [Attention is All You Need](https://arxiv.org/abs/1706.03762) paper. Actually, you'll only implement the encoder part, because it's enough for POS-tagging task.\n",
        "\n",
        "It's **highly recommended** to read [the original Transformer paper](https://arxiv.org/abs/1706.03762) or [this nice article](https://jalammar.github.io/illustrated-transformer/) before starting coding.\n",
        "\n",
        "The Transformer consists of multiple nested modules like a matryoshka (e.g. `Encoder` consists of `EncoderLayer`, which consists of `MultiHeadAttentionLayer` and `PositionwiseFeedforwardLayer`). In this notebook the implementation of modules is ordered in a [top-down](https://en.wikipedia.org/wiki/Top-down_and_bottom-up_design) manner – first the higher-level modules are implemented (e.g. `Encoder`), that use lower-level modules (e.g. `EncoderLayer`), which are not implemented yet. It's **strongly recommended** to read the notebook to the end to be aware of the code structure, before you start implementing the Transformer.\n",
        "\n",
        "![](https://raw.githubusercontent.com/karfly/learning-deep-learning/master/09_transformer/static/transformer.png)\n",
        "\n",
        "Similar to the Conv model, the Transformer does not use any recurrence. It also does not use any convolutional layers. Instead the model is entirely made up of linear layers, **attention mechanisms** and normalizations. \n",
        "\n",
        "As of May 2020, Transformers are the dominant architecture in NLP and are used to achieve state-of-the-art results for many tasks and it appears as if they will be for the near future. \n",
        "\n",
        "\n",
        "*Note:* in this notebook you'll implement a **learned positional encoding** (in the fashion of [BERT](https://arxiv.org/abs/1810.04805)), not the static one from the [original paper](https://arxiv.org/abs/1706.03762)."
      ]
    },
    {
      "cell_type": "markdown",
      "metadata": {
        "id": "BVIDC_vuj7NE",
        "colab_type": "text"
      },
      "source": [
        "### Encoder\n",
        "\n",
        "The Transformer's encoder attempts to *transform* the entire source sentence, $X = (x_1, ... ,x_n)$, into a sequence of context vectors, $Z = (z_1, ... , z_n)$. So, if our input sequence was 5 tokens long we would have $Z = (z_1, z_2, z_3, z_4, z_5)$. Why do we call this a sequence of context vectors and not a sequence of hidden states? A hidden state at time $t$ in an RNN has only seen tokens $x_t$ and all the tokens before it. However, each context vector here has seen all tokens at all positions within the input sequence.\n",
        "\n",
        "![](https://raw.githubusercontent.com/karfly/learning-deep-learning/master/09_transformer/static/transformer-encoder.png)\n",
        "\n",
        "First, the tokens are passed through a standard embedding layer. Next, as the model has no recurrence it has no idea about the order of the tokens within the sequence. We solve this by using a second embedding layer called a *positional embedding layer*. This is a standard embedding layer where the input is not the token itself but the position of the token within the sequence, starting with the first token, the `<bos>` (beginning of sequence) token, in position 0. The position embedding has a \"vocabulary\" size of `max_length`, which means our model can accept sentences up to `max_length` tokens long.\n",
        "\n",
        "The original Transformer implementation from the [Attention is All You Need](https://arxiv.org/abs/1706.03762) paper does not learn positional embeddings. Instead it uses a fixed static embedding. Modern Transformer architectures, like [BERT](https://arxiv.org/abs/1810.04805), use positional embeddings instead, so we'll use them.\n",
        "\n",
        "Next, the token and positional embeddings are elementwise summed together to get a vector which contains information about the token and also its position within the sequence. However, before they are summed, the token embeddings are multiplied by a scaling factor which is $\\sqrt{d_{model}}$, where $d_{model}$ is the hidden dimension size, `hid_dim`. This (supposedly) reduces variance in the embeddings and the model is difficult to train reliably without this scaling factor. Dropout is then applied to the combined embeddings.\n",
        "\n",
        "The combined embeddings are then passed through $N$ *encoder layers* to get $Z$, which is the output and can be used for any downstream task (e.g. POS-tagging).\n",
        "\n",
        "The mask, `mask`, is simply the same shape as the source sentence but has a value of 1 when the token in the source sentence is not a `<pad>` token and 0 when it is a `<pad>` token. This is used in the encoder layers to mask the multi-head attention mechanisms, which are used to calculate and apply attention over the source sentence, so the model does not pay attention to `<pad>` tokens, which contain no useful information."
      ]
    },
    {
      "cell_type": "code",
      "metadata": {
        "id": "9VH3ZsRPLBAX",
        "colab_type": "code",
        "colab": {}
      },
      "source": [
        "def run_epoch(model, iterator, optimizer, criterion, phase='train', epoch=0, writer=None):\n",
        "    is_train = (phase == 'train')\n",
        "    if is_train:\n",
        "        model.train()\n",
        "    else:\n",
        "        model.eval()\n",
        "    \n",
        "    epoch_loss = 0\n",
        "\n",
        "    # variables for calculating accuracy\n",
        "    n_predicted = 0\n",
        "    n_true_predicted = 0\n",
        "    \n",
        "    with torch.set_grad_enabled(is_train):\n",
        "        for i, batch in enumerate(iterator):\n",
        "            global_i = len(iterator) * epoch + i\n",
        "            \n",
        "            # unpack batch\n",
        "            text, postag = batch.text, batch.postag\n",
        "\n",
        "            \n",
        "            # make prediction\n",
        "            ## your code here\n",
        "            predictions =  model(text)\n",
        "            \n",
        "            # reshape prediction to [-1, output_dim]\n",
        "            pred = predictions.reshape(-1,21)\n",
        "            ## your code here\n",
        "            \n",
        "            # reshape gt labels to [-1, ]\n",
        "            gt = postag.reshape(-1,)\n",
        "            ## your code here\n",
        "            # print(predictions.shape , gt.shape, pred.shape)\n",
        "            \n",
        "            # calculate loss\n",
        "            ## your code here\n",
        "            loss = criterion(pred, gt)\n",
        "            \n",
        "           \n",
        "            \n",
        "            if is_train:\n",
        "              optimizer.zero_grad()\n",
        "              loss.backward()\n",
        "              optimizer.step()\n",
        "                # make optimization step\n",
        "                ## your code here\n",
        "\n",
        "                \n",
        "            # calculate accuracy\n",
        "            n_true_predicted += torch.sum((pred.argmax(-1) == gt) * (gt != POSTAG_PAD_IDX)).item()  # don't calculate pad token\n",
        "            n_predicted += torch.sum(gt != POSTAG_PAD_IDX).item()\n",
        "            \n",
        "            # dump train metrics to tensorboard\n",
        "            if writer is not None and is_train:\n",
        "                writer.add_scalar(f\"loss/{phase}\", loss.item(), global_i)\n",
        "                \n",
        "            epoch_loss += loss.item()\n",
        "\n",
        "        # dump epoch metrics to tensorboard\n",
        "        if writer is not None:\n",
        "            writer.add_scalar(f\"loss_epoch/{phase}\", epoch_loss / len(iterator), epoch)\n",
        "            writer.add_scalar(f\"accuracy_epoch/{phase}\", n_true_predicted / n_predicted, epoch)\n",
        "\n",
        "        return epoch_loss / len(iterator), n_true_predicted / n_predicted"
      ],
      "execution_count": 0,
      "outputs": []
    },
    {
      "cell_type": "code",
      "metadata": {
        "id": "-6mcd0H3j7NF",
        "colab_type": "code",
        "colab": {}
      },
      "source": [
        "class Encoder(nn.Module):\n",
        "    def __init__(self,\n",
        "                 input_dim, \n",
        "                 hid_dim, \n",
        "                 n_layers, \n",
        "                 n_heads, \n",
        "                 pf_dim,\n",
        "                 dropout, \n",
        "                 padding_index=None,\n",
        "                 max_length=128):\n",
        "        super().__init__()\n",
        "        \n",
        "        self.padding_index = padding_index  # if None, don't use masking\n",
        "        \n",
        "        # embeddings\n",
        "        self.tok_embedding = nn.Embedding(input_dim, hid_dim)\n",
        "        self.pos_embedding = nn.Embedding(max_length, hid_dim).to(device)\n",
        "        \n",
        "        # encoder layers (implemented below)\n",
        "        self.layers = nn.ModuleList([EncoderLayer(hid_dim, n_heads, pf_dim, dropout) for _ in range(n_layers)])\n",
        "        \n",
        "        # dropout is applied after summing up token and positional embeddings\n",
        "        self.dropout = nn.Dropout(dropout)\n",
        "        \n",
        "        # scale parameter\n",
        "        self.scale = torch.nn.Parameter(torch.sqrt(torch.tensor(hid_dim, dtype=torch.float32)))\n",
        "        \n",
        "        # custom weight initialization\n",
        "        self.init_weights()\n",
        "        \n",
        "    def init_weights(self):\n",
        "        for m in self.modules():\n",
        "            if hasattr(m, 'weight') and m.weight.dim() > 1:\n",
        "                nn.init.xavier_uniform_(m.weight.data)\n",
        "        \n",
        "    def forward(self, x):\n",
        "        \"\"\"\n",
        "        x (batch of token indices): torch.long tensor of shape [bs, seq_len]\n",
        "        \n",
        "        returns (encoded sequence): torch.float32 tensor of shape [bs, seq_len, output_dim]\n",
        "        \"\"\"\n",
        "        device = x.device\n",
        "        bs, seq_len = x.shape[:2]\n",
        "        # print('222')\n",
        "        \n",
        "        # compute non-padding mask (use self.padding_index)\n",
        "        mask = None\n",
        "        if self.padding_index is not None:\n",
        "           mask = torch.ones_like(x)\n",
        "           mask[x == self.padding_index] = 0\n",
        "          #  mask = mask.where(x.eq(self.padding_index), torch.zeros_like(x))\n",
        "          #  print(mask.shape, )\n",
        "          #  mask = np.ones(seq_len)\n",
        "          #  for i in range(seq_len):\n",
        "          #     if i== self.padding_index:\n",
        "          #       mask[i] = 0\n",
        "          #  print(mask.shape)\n",
        "            # mask = [1 for i in range(seq_len) if i!= self.padding_index else 0]## your code here\n",
        "        \n",
        "        # get token embeddings and scale with self.scale parameter\n",
        "        tok_emb = self.tok_embedding(x) * self.scale\n",
        "        # print(tok_emb.shape)\n",
        "        ## your code here\n",
        "        \n",
        "        # generate input [0, 1, ..., seq_len - 1] for positional embedder [bs, seq_len]\n",
        "        # position =  torch.LongTensor(torch.arange(0, seq_len).unsqueeze(1))\n",
        "        # position = torch.arange(0, seq_len, dtype = torch.int32).unsqueeze(1)\n",
        "        positionn =  torch.LongTensor([i for i in range(seq_len)]).unsqueeze(0).repeat(bs,1)\n",
        "        positionn= positionn.to(device)\n",
        "        # position =  [i for i in range(seq_len)]\n",
        "        # print(position.dtype)\n",
        "        ## your code here\n",
        "        \n",
        "        # get pos embeddings\n",
        "        pos_emb = self.pos_embedding(positionn)\n",
        "        # print(pos_emb.shape)\n",
        "        ## your code here\n",
        "        \n",
        "        # sum up token and positional embeddings\n",
        "        sum_emb = tok_emb+pos_emb\n",
        "        ## your code here\n",
        "        \n",
        "        # apply dropout\n",
        "        sum_emb = self.dropout(sum_emb)\n",
        "        ## your code here\n",
        "        \n",
        "        # apply encoder layers one by one; input shape is [bs, seq_len, hid dim]\n",
        "        x = sum_emb\n",
        "\n",
        "        for layer in self.layers:\n",
        "          x= layer(x, mask)\n",
        "        ## your code here\n",
        "        \n",
        "        return x"
      ],
      "execution_count": 0,
      "outputs": []
    },
    {
      "cell_type": "markdown",
      "metadata": {
        "id": "LAzyAzF4j7NG",
        "colab_type": "text"
      },
      "source": [
        "### Encoder Layer\n",
        "\n",
        "The encoder layers are where all of the \"meat\" of the encoder is contained.\n",
        "\n",
        "![](https://raw.githubusercontent.com/karfly/learning-deep-learning/master/09_transformer/static/transformer-encoder-layer.png)\n",
        "\n",
        "The encoder layer consists of 2 main blocks:\n",
        "1. Pass the source sentence and its mask into the *multi-head attention layer*, perform dropout on it, add a residual connection and pass it through a [Layer Normalization](https://arxiv.org/abs/1607.06450) layer.\n",
        "2. Pass the output of the 1st block through a *position-wise feedforward* layer and then, again, apply dropout, a residual connection and then layer normalization to get the output of this layer which is fed into the next layer (the parameters are not shared between layers)\n",
        "\n",
        "\n",
        "The multi-head attention layer is used by the encoder layer to attend to the source sentence, i.e. it is calculating and applying attention over itself instead of another sequence, hence we call it *self attention*.\n",
        "\n",
        "[This article](https://mlexplained.com/2018/01/13/weight-normalization-and-layer-normalization-explained-normalization-in-deep-learning-part-2/) goes into more detail about layer normalization, but the gist is that it normalizes the values of the features, i.e. across the hidden dimension, so each feature has a mean of 0 and a standard deviation of 1. This allows neural networks with a larger number of layers, like the Transformer, to be trained easier."
      ]
    },
    {
      "cell_type": "code",
      "metadata": {
        "id": "NxE34atwj7NG",
        "colab_type": "code",
        "colab": {}
      },
      "source": [
        "class EncoderLayer(nn.Module):\n",
        "    def __init__(self, \n",
        "                 hid_dim, \n",
        "                 n_heads, \n",
        "                 pf_dim,  \n",
        "                 dropout):\n",
        "        super().__init__()\n",
        "        \n",
        "        # self-attention layer normalization\n",
        "        self.attention_layer_norm = nn.LayerNorm(hid_dim)\n",
        "        \n",
        "        # positionwise feedforward layer normalization\n",
        "        self.pf_layer_norm = nn.LayerNorm(hid_dim)\n",
        "        \n",
        "        # attention layer (implemented below)\n",
        "        self.attention = MultiHeadAttentionLayer(hid_dim, n_heads, dropout)\n",
        "        \n",
        "        # positionwise feedforward layer (implemented below)\n",
        "        self.pf = PositionwiseFeedforwardLayer(hid_dim, pf_dim, dropout)\n",
        "        \n",
        "        # dropout is applied to the outputs of the attention and positionwise feedforward layers\n",
        "        self.dropout = nn.Dropout(dropout)\n",
        "        \n",
        "    def forward(self, x, mask=None):\n",
        "        \"\"\"\n",
        "        x (sequence of vectors): torch.float32 tensor of shape [bs, seq_len, hid_dim]\n",
        "        mask (mask of valid elements): torch.bool tensor of shape [bs, seq_len]\n",
        "        \n",
        "        returns (processed sequence of vectors): torch.float32 tensor of shape [bs, seq_len, hid_dim]\n",
        "        \"\"\"\n",
        "        ### block 1\n",
        "        # calculate self-attention + dropout\n",
        "        x =  x+ self.dropout(self.attention(x, x, x, mask))\n",
        "        # x =  self.dropout(self.attention(x, x, x, mask))\n",
        "        # your code here\n",
        "        \n",
        "        # residual (attention) + attention layer norm\n",
        "        x = self.attention_layer_norm(x) \n",
        "        ## your code here\n",
        "        \n",
        "        ### block 2\n",
        "        # calculate positionwise feedforward + dropout\n",
        "        x= x+self.dropout(self.pf(x))\n",
        "        # x= self.dropout(self.pf(x))\n",
        "        ## your code here\n",
        "        \n",
        "        # residual (positionwise feedforward) + positionwise feedforward layer norm\n",
        "        x = self.pf_layer_norm(x) \n",
        "        ## your code here\n",
        "        # print(x.shape)\n",
        "        # if(mask!=None):\n",
        "        #   x = mask*x\n",
        "        \n",
        "        return x"
      ],
      "execution_count": 0,
      "outputs": []
    },
    {
      "cell_type": "markdown",
      "metadata": {
        "id": "LYf6cuVFj7NH",
        "colab_type": "text"
      },
      "source": [
        "### Multi-Head Attention Layer\n",
        "\n",
        "One of the key, novel concepts introduced by the Transformer paper is the *multi-head attention layer*. \n",
        "\n",
        "![](https://raw.githubusercontent.com/karfly/learning-deep-learning/master/09_transformer/static/transformer-attention.png)\n",
        "\n",
        "Attention can be thought of as *queries*, *keys* and *values* - where the query is used with the key to get an attention vector (usually the output of a *softmax* operation and has all values between 0 and 1 which sum to 1) which is then used to get a weighted sum of the values.\n",
        "\n",
        "The Transformer uses *scaled dot-product attention*, where the query and the key are combined by taking the dot product between them, then applying the softmax operation, scaling by $d_k$ and finally multiplying by the value. $d_k$ is the *head dimension*, `head_dim`, which we will shortly explain further.\n",
        "\n",
        "$$ \\text{Attention}(Q, K, V) = \\text{Softmax} \\big( \\frac{QK^T}{\\sqrt{d_k}} \\big)V $$ \n",
        "\n",
        "This is similar to standard *dot product attention* but is scaled by $d_k$, which the paper states is used to stop the results of the dot products growing large, causing gradients to become too small.\n",
        "\n",
        "However, the scaled dot-product attention isn't simply applied to the queries, keys and values. Instead of doing a single attention application the queries, keys and values have their `hid_dim` split into $h$ *heads* and the scaled dot-product attention is calculated over all heads in parallel. This means instead of paying attention to one concept per attention application, we pay attention to $h$. We then re-combine the heads into their `hid_dim` shape, thus each `hid_dim` is potentially paying attention to $h$ different concepts.\n",
        "\n",
        "$$ \\text{MultiHead}(Q, K, V) = \\text{Concat}(\\text{head}_1,...,\\text{head}_h)W^O $$\n",
        "\n",
        "$$\\text{head}_i = \\text{Attention}(QW_i^Q, KW_i^K, VW_i^V) $$\n",
        "\n",
        "$W^O$ is the linear layer applied at the end of the multi-head attention layer, `fc`. $W^Q, W^K, W^V$ are the linear layers `fc_q`, `fc_k` and `fc_v`.\n",
        "\n",
        "The steps in this module are as follows:\n",
        "1. Calculate $QW^Q$, $KW^K$ and $VW^V$ with the linear layers, `fc_q`, `fc_k` and `fc_v` to get `Q`, `K` and `V`.\n",
        "2. Split the `hid_dim` of the query, key and value into `n_heads` (use `.view`) and correctly permute them so they can be multiplied together.\n",
        "3. Calculate the `energy` (the un-normalized attention) by multiplying `Q` and `K` together and scaling it by the square root of `head_dim`, which is calculated as `hid_dim // n_heads`. Mask the energy not to pay attention over any elements of the sequence we shouldn't.\n",
        "4. Apply the softmax, dropout and then apply the attention to the value heads, `V`, before combining the `n_heads` together.\n",
        "5. Finally, multiply the output of step 4 with $W^O$ (represented as `fc_o`). \n",
        "\n",
        "Note that in our implementation the lengths of the keys and values are always the same, thus when matrix multiplying the output of the softmax, `attention`, with `V` we will always have valid dimension sizes for matrix multiplication. This multiplication is carried out using `torch.matmul` (or `@` operator) which, when both tensors are >2-dimensional, does a batched matrix multiplication over the last two dimensions of each tensor. This will be a **[query len, key len] x [value len, head dim]** batched matrix multiplication over the batch size and each head which provides the **[batch size, n heads, query len, head dim]** result.\n",
        "\n",
        "One thing that looks strange at first is that dropout is applied directly to the attention. This means that our attention vector will most probably not sum to 1 and we may pay full attention to a token but the attention over that token is set to 0 by dropout. This is never explained, or even mentioned, in the paper however is used by the [official implementation](https://github.com/tensorflow/tensor2tensor/) and every Transformer implementation since, [including BERT](https://github.com/google-research/bert/)."
      ]
    },
    {
      "cell_type": "code",
      "metadata": {
        "id": "d7GejVlLj7NI",
        "colab_type": "code",
        "colab": {}
      },
      "source": [
        "import torch.nn.functional as F\n",
        "class MultiHeadAttentionLayer(nn.Module):\n",
        "    def __init__(self, hid_dim, n_heads, dropout):\n",
        "        super().__init__()\n",
        "        \n",
        "        assert hid_dim % n_heads == 0, \"hid_dim must be divisible by n_heads\"\n",
        "        \n",
        "        self.hid_dim = hid_dim\n",
        "        self.n_heads = n_heads\n",
        "        self.head_dim = hid_dim // n_heads\n",
        "        \n",
        "        # query, key and value linear networks\n",
        "        self.fc_q = nn.Linear(hid_dim, hid_dim)\n",
        "        self.fc_k = nn.Linear(hid_dim, hid_dim)\n",
        "        self.fc_v = nn.Linear(hid_dim, hid_dim)\n",
        "        \n",
        "        # output linear networks\n",
        "        self.fc_o = nn.Linear(hid_dim, hid_dim)\n",
        "        \n",
        "        # dropout is applied to attention\n",
        "        self.dropout = nn.Dropout(dropout)\n",
        "        \n",
        "        # scale parameter\n",
        "        self.scale = torch.nn.Parameter(torch.sqrt(torch.tensor(self.head_dim, dtype=torch.float32)))\n",
        "        \n",
        "    def forward(self, query, key, value, mask=None):\n",
        "        \"\"\"\n",
        "        query/key/value (batch of queries/keys/values): torch.float32 tensor of shape [bs, seq_len, hid_dim]\n",
        "        mask (mask of valid elements): torch.bool tensor of shape [bs, seq_len]\n",
        "        \n",
        "        returns (multi-head attention): torch.float32 tensor of shape [bs, seq_len, hid_dim]\n",
        "        \"\"\"\n",
        "        \n",
        "        bs = query.shape[0]\n",
        "        seq_len = query.shape[1]\n",
        "        # calculate Q, K, V using corresponding linear networks\n",
        "        q, k, v = self.fc_q(query), self.fc_k(key), self.fc_v(value)  # shape is [bs, seq_len, hid_dim]\n",
        "                \n",
        "        # prepare Q, K, V for .matmul() or `@` operator\n",
        "        # shape is [bs, n_heads, seq_len, head_dim]\n",
        "        q = q.view(bs, self.n_heads, seq_len, self.head_dim)\n",
        "        k = k.view(bs, self.n_heads, seq_len, self.head_dim)\n",
        "        v = v.view(bs, self.n_heads, seq_len, self.head_dim)\n",
        "\n",
        "        ## your code here\n",
        "        \n",
        "        # compute energy using .matmul() or `@` operator (don't forget to scale!)\n",
        "        # shape is [bs, n_heads, seq_len, seq_len]\n",
        "        energy = (q @ (k.transpose(-2, -1) )) / self.scale\n",
        "        # print('energy. shape ',energy.shape)\n",
        "        ## your code here  \n",
        "        \n",
        "        # apply mask – 1 in mask is a valid element, 0 - not (use .masked_fill())\n",
        "        if mask is not None:\n",
        "            energy = energy.masked_fill(mask.view(bs, 1, 1, -1) == 0, value = -1e9) ## your code here\n",
        "            \n",
        "            # energy = energy.permute(0, 2, 1, 3).masked_fill(mask == 0, -1)\n",
        "            # energy = energy.permute(0, 2, 1, 3)\n",
        "\n",
        "        \n",
        "        # apply softmax along the last dim of energy and get the attention weights\n",
        "        # shape is [bs, n_heads, seq_len]\n",
        "        attention = self.dropout(F.softmax(energy, dim = -1))## your code here\n",
        "        # print(attention.shape, v.shape)\n",
        "        \n",
        "        # weight values with calculated attention (use .matmul() or `@` operator)\n",
        "        # shape is [bs, n_heads, seq_len, head_dim]\n",
        "        x = attention @ v## your code here\n",
        "        \n",
        "        # squash 1 and 4 dims back\n",
        "        x = x.permute(0, 2, 1, 3).contiguous()\n",
        "        x = x.view(bs, -1, self.hid_dim)  # shape is [bs, seq_len, hid_dim]\n",
        "        \n",
        "        # apply output linear layer\n",
        "        x = self.fc_o(x)## your code here\n",
        "        \n",
        "        return x"
      ],
      "execution_count": 0,
      "outputs": []
    },
    {
      "cell_type": "markdown",
      "metadata": {
        "id": "vWjirq-rj7NJ",
        "colab_type": "text"
      },
      "source": [
        "### Position-wise Feedforward Layer\n",
        "\n",
        "The other main block inside the encoder layer is the *position-wise feedforward layer* This is relatively simple compared to the multi-head attention layer. The input is transformed from `hid_dim` to `pf_dim`, where `pf_dim` is usually a lot larger than `hid_dim`. The original Transformer used a `hid_dim` of 512 and a `pf_dim` of 2048. The ReLU activation function and dropout are applied before it is transformed back into a `hid_dim` representation. \n",
        "\n",
        "Why is this used? Unfortunately, it is never explained in the paper.\n",
        "\n",
        "*The bonus*: we implemented this layer for you!"
      ]
    },
    {
      "cell_type": "code",
      "metadata": {
        "id": "7Tm1VN2Uj7NJ",
        "colab_type": "code",
        "colab": {}
      },
      "source": [
        "class PositionwiseFeedforwardLayer(nn.Module):\n",
        "    def __init__(self, hid_dim, pf_dim, dropout):\n",
        "        super().__init__()\n",
        "        \n",
        "        # linear layers\n",
        "        self.fc_1 = nn.Linear(hid_dim, pf_dim)\n",
        "        self.fc_2 = nn.Linear(pf_dim, hid_dim)\n",
        "        \n",
        "        # dropout is applied after the first layer\n",
        "        self.dropout = nn.Dropout(dropout)\n",
        "        \n",
        "    def forward(self, x):\n",
        "        \"\"\"\n",
        "        x (sequence of vectors): torch.float32 tensor of shape [bs, seq_len, hid_dim]\n",
        "        \n",
        "        returns (processed sequence of\n",
        "         vectors): torch.float32 tensor of shape [bs, seq_len, hid_dim]\n",
        "        \"\"\"\n",
        "        # apply linear layers + dropout\n",
        "        x = self.dropout(torch.relu(self.fc_1(x)))\n",
        "        x = self.fc_2(x)\n",
        "        \n",
        "        return x"
      ],
      "execution_count": 0,
      "outputs": []
    },
    {
      "cell_type": "markdown",
      "metadata": {
        "id": "nlaNASAPj7NK",
        "colab_type": "text"
      },
      "source": [
        "## Transformer POS-tagger"
      ]
    },
    {
      "cell_type": "markdown",
      "metadata": {
        "id": "PDaDuBrTj7NK",
        "colab_type": "text"
      },
      "source": [
        "Now we have all the parts of the transformer and we can build a Transformer-based POS-tagger. It consists of Transformer encoder and single linear layer, which predicts the classes of POS-tags:"
      ]
    },
    {
      "cell_type": "code",
      "metadata": {
        "id": "-fifCVq1j7NK",
        "colab_type": "code",
        "colab": {}
      },
      "source": [
        "class TransformerPOSTagger(nn.Module):\n",
        "    def __init__(self,\n",
        "                 input_dim,\n",
        "                 output_dim,\n",
        "                 hid_dim=64, \n",
        "                 n_layers=8, \n",
        "                 n_heads=8, \n",
        "                 pf_dim=64,\n",
        "                 dropout=0.1, \n",
        "                 padding_index=None,\n",
        "                 max_length=128):\n",
        "        super().__init__()\n",
        "        # print('input, output shapes ',input_dim,output_dim)\n",
        "        # transformer encoder\n",
        "        self.encoder = Encoder(\n",
        "            input_dim,\n",
        "            hid_dim=hid_dim, \n",
        "            n_layers=n_layers, \n",
        "            n_heads=n_heads, \n",
        "            pf_dim=pf_dim,\n",
        "            dropout=dropout, \n",
        "            padding_index=padding_index,\n",
        "            max_length=max_length\n",
        "        )\n",
        "        \n",
        "        # linear layer to predict (classify) pos-tags\n",
        "        self.postag_predictor = nn.Linear(hid_dim, output_dim)\n",
        "        \n",
        "    def forward(self, x):\n",
        "        # apply encoder\n",
        "        x= self.encoder(x)\n",
        "        ## your code here\n",
        "        \n",
        "        # predict postags\n",
        "        x = self.postag_predictor(x)\n",
        "        ## your code here\n",
        "        \n",
        "        return x"
      ],
      "execution_count": 0,
      "outputs": []
    },
    {
      "cell_type": "markdown",
      "metadata": {
        "id": "JTN6OAwjj7NL",
        "colab_type": "text"
      },
      "source": [
        "## Training the Transformer Model\n",
        "\n",
        "The training pipeline for the Transformer model is absolutely the same except hyperparameters. We encourage you to tune them and find the best performing model."
      ]
    },
    {
      "cell_type": "code",
      "metadata": {
        "id": "EaP7Gv00j7NM",
        "colab_type": "code",
        "colab": {}
      },
      "source": [
        "# hid_dim =  512## your code here\n",
        "# n_layers =  4## your code here\n",
        "# n_heads = 128 ## your code here\n",
        "# pf_dim = 512## your code here\n",
        "# dropout = 0.5 ## your code here\n",
        "# hid_dim =  64## your code here\n",
        "# n_layers =  5## your code here\n",
        "# n_heads = 16 ## your code here\n",
        "# pf_dim = 32## your code here\n",
        "# dropout = 0.2 ## your code here\n",
        "hid_dim =  264## your code here\n",
        "n_layers =  6## your code here\n",
        "n_heads = 8 ## your code here\n",
        "pf_dim = 1024## your code here\n",
        "dropout = 0.3 ## your code here\n",
        "\n",
        "model = TransformerPOSTagger(\n",
        "    INPUT_DIM,\n",
        "    OUTPUT_DIM,\n",
        "    # hid_dim=hid_dim, \n",
        "    # n_layers=n_layers, \n",
        "    # n_heads=n_layers, \n",
        "    # pf_dim=pf_dim, \n",
        "    # dropout=dropout, \n",
        "    padding_index=TEXT_PAD_IDX,\n",
        "    max_length=MAX_LENGTH\n",
        ").to(device)"
      ],
      "execution_count": 0,
      "outputs": []
    },
    {
      "cell_type": "code",
      "metadata": {
        "id": "CruxuxbNAiRq",
        "colab_type": "code",
        "colab": {}
      },
      "source": [
        ""
      ],
      "execution_count": 0,
      "outputs": []
    },
    {
      "cell_type": "markdown",
      "metadata": {
        "id": "RvQ9vqyyj7NN",
        "colab_type": "text"
      },
      "source": [
        "The learning rate needs to be lower than the default used by Adam, otherwise the learning can be unstable."
      ]
    },
    {
      "cell_type": "code",
      "metadata": {
        "id": "hW65LgNBj7NN",
        "colab_type": "code",
        "outputId": "51b82e73-aed0-4fc3-9664-54517b739e3f",
        "colab": {
          "base_uri": "https://localhost:8080/",
          "height": 51
        }
      },
      "source": [
        "criterion = nn.CrossEntropyLoss(ignore_index=POSTAG_PAD_IDX)## your code here\n",
        "optimizer = torch.optim.Adam(model.parameters(), lr=0.0001, betas=(0.9, 0.98), eps=1e-9) ## your code here\n",
        "\n",
        "writer, experiment_name, best_model_path = setup_experiment(model.__class__.__name__, logdir=\"./tb\")\n",
        "print(f\"Experiment name: {experiment_name}\")\n",
        "\n",
        "\n",
        "print(f\"Model has {count_parameters(model):,} trainable parameters\")"
      ],
      "execution_count": 62,
      "outputs": [
        {
          "output_type": "stream",
          "text": [
            "Experiment name: TransformerPOSTagger@24.05.2020-20:38:06\n",
            "Model has 352,798 trainable parameters\n"
          ],
          "name": "stdout"
        }
      ]
    },
    {
      "cell_type": "markdown",
      "metadata": {
        "id": "bcxp0-P2j7NO",
        "colab_type": "text"
      },
      "source": [
        "Train Transformer POS-tagger:"
      ]
    },
    {
      "cell_type": "code",
      "metadata": {
        "scrolled": true,
        "id": "SkeT3H_Lj7NO",
        "colab_type": "code",
        "outputId": "e7695854-2289-43c4-9fe5-81638afbb59f",
        "colab": {
          "base_uri": "https://localhost:8080/",
          "height": 1000
        }
      },
      "source": [
        "n_epochs = 100 ## your code here\n",
        "\n",
        "best_val_loss = float('+inf')\n",
        "for epoch in range(n_epochs):    \n",
        "\n",
        "    train_loss, train_accuracy = run_epoch(model, train_iterator, optimizer, criterion, phase='train', epoch=epoch, writer=writer)\n",
        "    val_loss, val_accuracy = run_epoch(model, val_iterator, None, criterion, phase='val', epoch=epoch, writer=writer)\n",
        "    \n",
        "    # if val_loss < best_val_loss:\n",
        "    #     best_val_loss = val_loss\n",
        "    #     torch.save(model.state_dict(), best_model_path)\n",
        "    \n",
        "    print(f'Epoch: {epoch+1:02}')\n",
        "    print(f'\\tTrain Loss: {train_loss:.3f} | Train accuracy: {train_accuracy * 100:.2f}')\n",
        "    print(f'\\t Val. Loss: {val_loss:.3f} |  Val. accuracy: {val_accuracy * 100:.2f}') "
      ],
      "execution_count": 46,
      "outputs": [
        {
          "output_type": "stream",
          "text": [
            "Epoch: 01\n",
            "\tTrain Loss: 3.046 | Train accuracy: 6.56\n",
            "\t Val. Loss: 2.988 |  Val. accuracy: 7.48\n",
            "Epoch: 02\n",
            "\tTrain Loss: 2.891 | Train accuracy: 10.09\n",
            "\t Val. Loss: 2.852 |  Val. accuracy: 12.60\n",
            "Epoch: 03\n",
            "\tTrain Loss: 2.793 | Train accuracy: 13.16\n",
            "\t Val. Loss: 2.755 |  Val. accuracy: 15.81\n",
            "Epoch: 04\n",
            "\tTrain Loss: 2.724 | Train accuracy: 15.08\n",
            "\t Val. Loss: 2.676 |  Val. accuracy: 18.56\n",
            "Epoch: 05\n",
            "\tTrain Loss: 2.662 | Train accuracy: 17.04\n",
            "\t Val. Loss: 2.601 |  Val. accuracy: 22.92\n",
            "Epoch: 06\n",
            "\tTrain Loss: 2.601 | Train accuracy: 19.86\n",
            "\t Val. Loss: 2.520 |  Val. accuracy: 28.42\n",
            "Epoch: 07\n",
            "\tTrain Loss: 2.538 | Train accuracy: 23.21\n",
            "\t Val. Loss: 2.434 |  Val. accuracy: 33.13\n",
            "Epoch: 08\n",
            "\tTrain Loss: 2.471 | Train accuracy: 26.85\n",
            "\t Val. Loss: 2.348 |  Val. accuracy: 36.66\n",
            "Epoch: 09\n",
            "\tTrain Loss: 2.402 | Train accuracy: 30.30\n",
            "\t Val. Loss: 2.263 |  Val. accuracy: 39.57\n",
            "Epoch: 10\n",
            "\tTrain Loss: 2.331 | Train accuracy: 33.78\n",
            "\t Val. Loss: 2.179 |  Val. accuracy: 42.85\n",
            "Epoch: 11\n",
            "\tTrain Loss: 2.261 | Train accuracy: 36.56\n",
            "\t Val. Loss: 2.099 |  Val. accuracy: 45.36\n",
            "Epoch: 12\n",
            "\tTrain Loss: 2.193 | Train accuracy: 39.22\n",
            "\t Val. Loss: 2.021 |  Val. accuracy: 47.87\n",
            "Epoch: 13\n",
            "\tTrain Loss: 2.127 | Train accuracy: 41.48\n",
            "\t Val. Loss: 1.944 |  Val. accuracy: 49.92\n",
            "Epoch: 14\n",
            "\tTrain Loss: 2.057 | Train accuracy: 43.72\n",
            "\t Val. Loss: 1.873 |  Val. accuracy: 51.57\n",
            "Epoch: 15\n",
            "\tTrain Loss: 1.992 | Train accuracy: 45.91\n",
            "\t Val. Loss: 1.799 |  Val. accuracy: 53.27\n",
            "Epoch: 16\n",
            "\tTrain Loss: 1.929 | Train accuracy: 47.75\n",
            "\t Val. Loss: 1.730 |  Val. accuracy: 54.70\n",
            "Epoch: 17\n",
            "\tTrain Loss: 1.867 | Train accuracy: 49.46\n",
            "\t Val. Loss: 1.664 |  Val. accuracy: 56.36\n",
            "Epoch: 18\n",
            "\tTrain Loss: 1.806 | Train accuracy: 51.11\n",
            "\t Val. Loss: 1.600 |  Val. accuracy: 57.81\n",
            "Epoch: 19\n",
            "\tTrain Loss: 1.747 | Train accuracy: 52.54\n",
            "\t Val. Loss: 1.537 |  Val. accuracy: 59.35\n",
            "Epoch: 20\n",
            "\tTrain Loss: 1.689 | Train accuracy: 54.18\n",
            "\t Val. Loss: 1.478 |  Val. accuracy: 60.68\n",
            "Epoch: 21\n",
            "\tTrain Loss: 1.634 | Train accuracy: 55.77\n",
            "\t Val. Loss: 1.425 |  Val. accuracy: 61.99\n",
            "Epoch: 22\n",
            "\tTrain Loss: 1.582 | Train accuracy: 57.20\n",
            "\t Val. Loss: 1.371 |  Val. accuracy: 63.31\n",
            "Epoch: 23\n",
            "\tTrain Loss: 1.531 | Train accuracy: 58.64\n",
            "\t Val. Loss: 1.319 |  Val. accuracy: 64.57\n",
            "Epoch: 24\n",
            "\tTrain Loss: 1.481 | Train accuracy: 60.00\n",
            "\t Val. Loss: 1.274 |  Val. accuracy: 65.60\n",
            "Epoch: 25\n",
            "\tTrain Loss: 1.433 | Train accuracy: 61.13\n",
            "\t Val. Loss: 1.227 |  Val. accuracy: 66.65\n",
            "Epoch: 26\n",
            "\tTrain Loss: 1.387 | Train accuracy: 62.31\n",
            "\t Val. Loss: 1.187 |  Val. accuracy: 67.52\n",
            "Epoch: 27\n",
            "\tTrain Loss: 1.343 | Train accuracy: 63.51\n",
            "\t Val. Loss: 1.147 |  Val. accuracy: 68.35\n",
            "Epoch: 28\n",
            "\tTrain Loss: 1.302 | Train accuracy: 64.43\n",
            "\t Val. Loss: 1.110 |  Val. accuracy: 69.05\n",
            "Epoch: 29\n",
            "\tTrain Loss: 1.262 | Train accuracy: 65.42\n",
            "\t Val. Loss: 1.076 |  Val. accuracy: 69.55\n",
            "Epoch: 30\n",
            "\tTrain Loss: 1.226 | Train accuracy: 66.26\n",
            "\t Val. Loss: 1.046 |  Val. accuracy: 70.15\n",
            "Epoch: 31\n",
            "\tTrain Loss: 1.191 | Train accuracy: 67.02\n",
            "\t Val. Loss: 1.018 |  Val. accuracy: 70.72\n",
            "Epoch: 32\n",
            "\tTrain Loss: 1.158 | Train accuracy: 67.78\n",
            "\t Val. Loss: 0.991 |  Val. accuracy: 71.19\n",
            "Epoch: 33\n",
            "\tTrain Loss: 1.127 | Train accuracy: 68.45\n",
            "\t Val. Loss: 0.966 |  Val. accuracy: 71.70\n",
            "Epoch: 34\n",
            "\tTrain Loss: 1.098 | Train accuracy: 69.04\n",
            "\t Val. Loss: 0.942 |  Val. accuracy: 72.17\n",
            "Epoch: 35\n",
            "\tTrain Loss: 1.072 | Train accuracy: 69.64\n",
            "\t Val. Loss: 0.920 |  Val. accuracy: 72.58\n",
            "Epoch: 36\n",
            "\tTrain Loss: 1.046 | Train accuracy: 70.23\n",
            "\t Val. Loss: 0.899 |  Val. accuracy: 73.03\n",
            "Epoch: 37\n",
            "\tTrain Loss: 1.020 | Train accuracy: 70.81\n",
            "\t Val. Loss: 0.880 |  Val. accuracy: 73.45\n",
            "Epoch: 38\n",
            "\tTrain Loss: 0.999 | Train accuracy: 71.19\n",
            "\t Val. Loss: 0.861 |  Val. accuracy: 73.84\n",
            "Epoch: 39\n",
            "\tTrain Loss: 0.976 | Train accuracy: 71.77\n",
            "\t Val. Loss: 0.844 |  Val. accuracy: 74.24\n",
            "Epoch: 40\n",
            "\tTrain Loss: 0.955 | Train accuracy: 72.18\n",
            "\t Val. Loss: 0.827 |  Val. accuracy: 74.59\n",
            "Epoch: 41\n",
            "\tTrain Loss: 0.935 | Train accuracy: 72.64\n",
            "\t Val. Loss: 0.811 |  Val. accuracy: 74.97\n",
            "Epoch: 42\n",
            "\tTrain Loss: 0.916 | Train accuracy: 73.11\n",
            "\t Val. Loss: 0.796 |  Val. accuracy: 75.25\n",
            "Epoch: 43\n",
            "\tTrain Loss: 0.897 | Train accuracy: 73.48\n",
            "\t Val. Loss: 0.782 |  Val. accuracy: 75.57\n",
            "Epoch: 44\n",
            "\tTrain Loss: 0.881 | Train accuracy: 73.85\n",
            "\t Val. Loss: 0.768 |  Val. accuracy: 76.04\n",
            "Epoch: 45\n",
            "\tTrain Loss: 0.866 | Train accuracy: 74.15\n",
            "\t Val. Loss: 0.755 |  Val. accuracy: 76.44\n",
            "Epoch: 46\n",
            "\tTrain Loss: 0.851 | Train accuracy: 74.60\n",
            "\t Val. Loss: 0.743 |  Val. accuracy: 76.77\n",
            "Epoch: 47\n",
            "\tTrain Loss: 0.835 | Train accuracy: 74.92\n",
            "\t Val. Loss: 0.731 |  Val. accuracy: 77.04\n",
            "Epoch: 48\n",
            "\tTrain Loss: 0.821 | Train accuracy: 75.33\n",
            "\t Val. Loss: 0.720 |  Val. accuracy: 77.41\n",
            "Epoch: 49\n",
            "\tTrain Loss: 0.808 | Train accuracy: 75.58\n",
            "\t Val. Loss: 0.708 |  Val. accuracy: 77.63\n",
            "Epoch: 50\n",
            "\tTrain Loss: 0.793 | Train accuracy: 75.93\n",
            "\t Val. Loss: 0.698 |  Val. accuracy: 77.94\n",
            "Epoch: 51\n",
            "\tTrain Loss: 0.782 | Train accuracy: 76.25\n",
            "\t Val. Loss: 0.688 |  Val. accuracy: 78.25\n",
            "Epoch: 52\n",
            "\tTrain Loss: 0.771 | Train accuracy: 76.61\n",
            "\t Val. Loss: 0.678 |  Val. accuracy: 78.50\n",
            "Epoch: 53\n",
            "\tTrain Loss: 0.759 | Train accuracy: 76.81\n",
            "\t Val. Loss: 0.669 |  Val. accuracy: 78.74\n",
            "Epoch: 54\n",
            "\tTrain Loss: 0.747 | Train accuracy: 77.11\n",
            "\t Val. Loss: 0.659 |  Val. accuracy: 78.95\n",
            "Epoch: 55\n",
            "\tTrain Loss: 0.738 | Train accuracy: 77.22\n",
            "\t Val. Loss: 0.651 |  Val. accuracy: 79.28\n",
            "Epoch: 56\n",
            "\tTrain Loss: 0.726 | Train accuracy: 77.63\n",
            "\t Val. Loss: 0.643 |  Val. accuracy: 79.53\n",
            "Epoch: 57\n",
            "\tTrain Loss: 0.718 | Train accuracy: 77.82\n",
            "\t Val. Loss: 0.635 |  Val. accuracy: 79.75\n",
            "Epoch: 58\n",
            "\tTrain Loss: 0.708 | Train accuracy: 78.06\n",
            "\t Val. Loss: 0.627 |  Val. accuracy: 79.91\n",
            "Epoch: 59\n",
            "\tTrain Loss: 0.698 | Train accuracy: 78.30\n",
            "\t Val. Loss: 0.620 |  Val. accuracy: 80.10\n",
            "Epoch: 60\n",
            "\tTrain Loss: 0.689 | Train accuracy: 78.57\n",
            "\t Val. Loss: 0.613 |  Val. accuracy: 80.28\n",
            "Epoch: 61\n",
            "\tTrain Loss: 0.681 | Train accuracy: 78.74\n",
            "\t Val. Loss: 0.606 |  Val. accuracy: 80.46\n",
            "Epoch: 62\n",
            "\tTrain Loss: 0.672 | Train accuracy: 79.00\n",
            "\t Val. Loss: 0.600 |  Val. accuracy: 80.62\n",
            "Epoch: 63\n",
            "\tTrain Loss: 0.665 | Train accuracy: 79.18\n",
            "\t Val. Loss: 0.594 |  Val. accuracy: 80.86\n",
            "Epoch: 64\n",
            "\tTrain Loss: 0.656 | Train accuracy: 79.40\n",
            "\t Val. Loss: 0.588 |  Val. accuracy: 81.03\n",
            "Epoch: 65\n",
            "\tTrain Loss: 0.650 | Train accuracy: 79.50\n",
            "\t Val. Loss: 0.582 |  Val. accuracy: 81.16\n",
            "Epoch: 66\n",
            "\tTrain Loss: 0.644 | Train accuracy: 79.61\n",
            "\t Val. Loss: 0.577 |  Val. accuracy: 81.29\n",
            "Epoch: 67\n",
            "\tTrain Loss: 0.636 | Train accuracy: 79.91\n",
            "\t Val. Loss: 0.573 |  Val. accuracy: 81.43\n",
            "Epoch: 68\n",
            "\tTrain Loss: 0.629 | Train accuracy: 80.12\n",
            "\t Val. Loss: 0.568 |  Val. accuracy: 81.54\n",
            "Epoch: 69\n",
            "\tTrain Loss: 0.622 | Train accuracy: 80.31\n",
            "\t Val. Loss: 0.563 |  Val. accuracy: 81.65\n",
            "Epoch: 70\n",
            "\tTrain Loss: 0.615 | Train accuracy: 80.48\n",
            "\t Val. Loss: 0.559 |  Val. accuracy: 81.75\n",
            "Epoch: 71\n",
            "\tTrain Loss: 0.610 | Train accuracy: 80.58\n",
            "\t Val. Loss: 0.554 |  Val. accuracy: 81.86\n",
            "Epoch: 72\n",
            "\tTrain Loss: 0.604 | Train accuracy: 80.73\n",
            "\t Val. Loss: 0.551 |  Val. accuracy: 81.96\n",
            "Epoch: 73\n",
            "\tTrain Loss: 0.598 | Train accuracy: 80.91\n",
            "\t Val. Loss: 0.547 |  Val. accuracy: 82.03\n",
            "Epoch: 74\n",
            "\tTrain Loss: 0.593 | Train accuracy: 81.04\n",
            "\t Val. Loss: 0.544 |  Val. accuracy: 82.12\n",
            "Epoch: 75\n",
            "\tTrain Loss: 0.589 | Train accuracy: 81.18\n",
            "\t Val. Loss: 0.540 |  Val. accuracy: 82.20\n",
            "Epoch: 76\n",
            "\tTrain Loss: 0.584 | Train accuracy: 81.28\n",
            "\t Val. Loss: 0.537 |  Val. accuracy: 82.27\n",
            "Epoch: 77\n",
            "\tTrain Loss: 0.581 | Train accuracy: 81.38\n",
            "\t Val. Loss: 0.533 |  Val. accuracy: 82.37\n",
            "Epoch: 78\n",
            "\tTrain Loss: 0.576 | Train accuracy: 81.46\n",
            "\t Val. Loss: 0.531 |  Val. accuracy: 82.45\n",
            "Epoch: 79\n",
            "\tTrain Loss: 0.572 | Train accuracy: 81.58\n",
            "\t Val. Loss: 0.528 |  Val. accuracy: 82.50\n",
            "Epoch: 80\n",
            "\tTrain Loss: 0.567 | Train accuracy: 81.70\n",
            "\t Val. Loss: 0.525 |  Val. accuracy: 82.57\n",
            "Epoch: 81\n",
            "\tTrain Loss: 0.563 | Train accuracy: 81.81\n",
            "\t Val. Loss: 0.523 |  Val. accuracy: 82.65\n",
            "Epoch: 82\n",
            "\tTrain Loss: 0.560 | Train accuracy: 81.96\n",
            "\t Val. Loss: 0.520 |  Val. accuracy: 82.70\n",
            "Epoch: 83\n",
            "\tTrain Loss: 0.556 | Train accuracy: 81.95\n",
            "\t Val. Loss: 0.518 |  Val. accuracy: 82.71\n",
            "Epoch: 84\n",
            "\tTrain Loss: 0.553 | Train accuracy: 82.07\n",
            "\t Val. Loss: 0.516 |  Val. accuracy: 82.78\n",
            "Epoch: 85\n",
            "\tTrain Loss: 0.548 | Train accuracy: 82.21\n",
            "\t Val. Loss: 0.513 |  Val. accuracy: 82.80\n",
            "Epoch: 86\n",
            "\tTrain Loss: 0.546 | Train accuracy: 82.24\n",
            "\t Val. Loss: 0.512 |  Val. accuracy: 82.86\n",
            "Epoch: 87\n",
            "\tTrain Loss: 0.542 | Train accuracy: 82.36\n",
            "\t Val. Loss: 0.510 |  Val. accuracy: 82.90\n",
            "Epoch: 88\n",
            "\tTrain Loss: 0.540 | Train accuracy: 82.34\n",
            "\t Val. Loss: 0.508 |  Val. accuracy: 82.89\n",
            "Epoch: 89\n",
            "\tTrain Loss: 0.536 | Train accuracy: 82.52\n",
            "\t Val. Loss: 0.506 |  Val. accuracy: 82.91\n",
            "Epoch: 90\n",
            "\tTrain Loss: 0.533 | Train accuracy: 82.50\n",
            "\t Val. Loss: 0.504 |  Val. accuracy: 82.99\n",
            "Epoch: 91\n",
            "\tTrain Loss: 0.530 | Train accuracy: 82.63\n",
            "\t Val. Loss: 0.502 |  Val. accuracy: 82.98\n",
            "Epoch: 92\n",
            "\tTrain Loss: 0.529 | Train accuracy: 82.59\n",
            "\t Val. Loss: 0.501 |  Val. accuracy: 83.01\n",
            "Epoch: 93\n",
            "\tTrain Loss: 0.526 | Train accuracy: 82.71\n",
            "\t Val. Loss: 0.499 |  Val. accuracy: 83.06\n",
            "Epoch: 94\n",
            "\tTrain Loss: 0.523 | Train accuracy: 82.75\n",
            "\t Val. Loss: 0.498 |  Val. accuracy: 83.11\n",
            "Epoch: 95\n",
            "\tTrain Loss: 0.521 | Train accuracy: 82.87\n",
            "\t Val. Loss: 0.496 |  Val. accuracy: 83.10\n",
            "Epoch: 96\n",
            "\tTrain Loss: 0.518 | Train accuracy: 82.87\n",
            "\t Val. Loss: 0.495 |  Val. accuracy: 83.09\n",
            "Epoch: 97\n",
            "\tTrain Loss: 0.517 | Train accuracy: 82.92\n",
            "\t Val. Loss: 0.494 |  Val. accuracy: 83.12\n",
            "Epoch: 98\n",
            "\tTrain Loss: 0.516 | Train accuracy: 82.92\n",
            "\t Val. Loss: 0.493 |  Val. accuracy: 83.13\n",
            "Epoch: 99\n",
            "\tTrain Loss: 0.513 | Train accuracy: 82.96\n",
            "\t Val. Loss: 0.492 |  Val. accuracy: 83.15\n",
            "Epoch: 100\n",
            "\tTrain Loss: 0.510 | Train accuracy: 83.04\n",
            "\t Val. Loss: 0.490 |  Val. accuracy: 83.16\n"
          ],
          "name": "stdout"
        }
      ]
    },
    {
      "cell_type": "code",
      "metadata": {
        "id": "EPEU1ZpeHgX0",
        "colab_type": "code",
        "colab": {
          "base_uri": "https://localhost:8080/",
          "height": 527
        },
        "outputId": "44073076-e971-430b-8293-82dffa8e1a88"
      },
      "source": [
        "\n",
        "best_val_loss = float('+inf')\n",
        "for epoch in range(10):    \n",
        "\n",
        "    train_loss, train_accuracy = run_epoch(model, train_iterator, optimizer, criterion, phase='train', epoch=epoch, writer=writer)\n",
        "    val_loss, val_accuracy = run_epoch(model, val_iterator, None, criterion, phase='val', epoch=epoch, writer=writer)\n",
        "    \n",
        "    # if val_loss < best_val_loss:\n",
        "    #     best_val_loss = val_loss\n",
        "    #     torch.save(model.state_dict(), best_model_path)\n",
        "    \n",
        "    print(f'Epoch: {epoch+1:02}')\n",
        "    print(f'\\tTrain Loss: {train_loss:.3f} | Train accuracy: {train_accuracy * 100:.2f}')\n",
        "    print(f'\\t Val. Loss: {val_loss:.3f} |  Val. accuracy: {val_accuracy * 100:.2f}') "
      ],
      "execution_count": 65,
      "outputs": [
        {
          "output_type": "stream",
          "text": [
            "Epoch: 01\n",
            "\tTrain Loss: 0.391 | Train accuracy: 85.52\n",
            "\t Val. Loss: 0.425 |  Val. accuracy: 84.15\n",
            "Epoch: 02\n",
            "\tTrain Loss: 0.390 | Train accuracy: 85.51\n",
            "\t Val. Loss: 0.425 |  Val. accuracy: 84.23\n",
            "Epoch: 03\n",
            "\tTrain Loss: 0.389 | Train accuracy: 85.53\n",
            "\t Val. Loss: 0.424 |  Val. accuracy: 84.22\n",
            "Epoch: 04\n",
            "\tTrain Loss: 0.389 | Train accuracy: 85.64\n",
            "\t Val. Loss: 0.423 |  Val. accuracy: 84.25\n",
            "Epoch: 05\n",
            "\tTrain Loss: 0.388 | Train accuracy: 85.64\n",
            "\t Val. Loss: 0.424 |  Val. accuracy: 84.27\n",
            "Epoch: 06\n",
            "\tTrain Loss: 0.387 | Train accuracy: 85.67\n",
            "\t Val. Loss: 0.423 |  Val. accuracy: 84.23\n",
            "Epoch: 07\n",
            "\tTrain Loss: 0.386 | Train accuracy: 85.67\n",
            "\t Val. Loss: 0.423 |  Val. accuracy: 84.21\n",
            "Epoch: 08\n",
            "\tTrain Loss: 0.386 | Train accuracy: 85.71\n",
            "\t Val. Loss: 0.423 |  Val. accuracy: 84.29\n",
            "Epoch: 09\n",
            "\tTrain Loss: 0.384 | Train accuracy: 85.78\n",
            "\t Val. Loss: 0.423 |  Val. accuracy: 84.26\n",
            "Epoch: 10\n",
            "\tTrain Loss: 0.384 | Train accuracy: 85.75\n",
            "\t Val. Loss: 0.424 |  Val. accuracy: 84.21\n"
          ],
          "name": "stdout"
        }
      ]
    },
    {
      "cell_type": "code",
      "metadata": {
        "id": "pipCzk43kQHm",
        "colab_type": "code",
        "outputId": "4e9a2f9b-1438-4e39-f30d-ef398ea52990",
        "colab": {
          "base_uri": "https://localhost:8080/",
          "height": 85
        }
      },
      "source": [
        "torch.arange(0, 3, dtype = torch.int32).unsqueeze(0).repeat(4,1)"
      ],
      "execution_count": 0,
      "outputs": [
        {
          "output_type": "execute_result",
          "data": {
            "text/plain": [
              "tensor([[0, 1, 2],\n",
              "        [0, 1, 2],\n",
              "        [0, 1, 2],\n",
              "        [0, 1, 2]], dtype=torch.int32)"
            ]
          },
          "metadata": {
            "tags": []
          },
          "execution_count": 64
        }
      ]
    },
    {
      "cell_type": "code",
      "metadata": {
        "id": "IVEjozKlk5BV",
        "colab_type": "code",
        "outputId": "271e4330-81f6-4b8b-bc59-f36cb9744c81",
        "colab": {
          "base_uri": "https://localhost:8080/",
          "height": 34
        }
      },
      "source": [
        "type([i for i in range(3)])"
      ],
      "execution_count": 0,
      "outputs": [
        {
          "output_type": "execute_result",
          "data": {
            "text/plain": [
              "list"
            ]
          },
          "metadata": {
            "tags": []
          },
          "execution_count": 83
        }
      ]
    },
    {
      "cell_type": "markdown",
      "metadata": {
        "id": "BF_Vw28Hj7NQ",
        "colab_type": "text"
      },
      "source": [
        "Evaluate the final test accuracy and save best model:"
      ]
    },
    {
      "cell_type": "code",
      "metadata": {
        "id": "m5IrBlfC6eDy",
        "colab_type": "code",
        "colab": {
          "base_uri": "https://localhost:8080/",
          "height": 324
        },
        "outputId": "b785fb92-9f0c-4886-b808-8c8618dc47b5"
      },
      "source": [
        "name = 'transformer'\n",
        "torch.save(model.state_dict(), f'drive/My Drive/{name}.pth')"
      ],
      "execution_count": 86,
      "outputs": [
        {
          "output_type": "error",
          "ename": "FileNotFoundError",
          "evalue": "ignored",
          "traceback": [
            "\u001b[0;31m---------------------------------------------------------------------------\u001b[0m",
            "\u001b[0;31mFileNotFoundError\u001b[0m                         Traceback (most recent call last)",
            "\u001b[0;32m<ipython-input-86-3b2f86cd0062>\u001b[0m in \u001b[0;36m<module>\u001b[0;34m()\u001b[0m\n\u001b[1;32m      1\u001b[0m \u001b[0mname\u001b[0m \u001b[0;34m=\u001b[0m \u001b[0;34m'transformer'\u001b[0m\u001b[0;34m\u001b[0m\u001b[0;34m\u001b[0m\u001b[0m\n\u001b[0;32m----> 2\u001b[0;31m \u001b[0mtorch\u001b[0m\u001b[0;34m.\u001b[0m\u001b[0msave\u001b[0m\u001b[0;34m(\u001b[0m\u001b[0mmodel\u001b[0m\u001b[0;34m.\u001b[0m\u001b[0mstate_dict\u001b[0m\u001b[0;34m(\u001b[0m\u001b[0;34m)\u001b[0m\u001b[0;34m,\u001b[0m \u001b[0;34mf'drive/My Drive/{name}.pth'\u001b[0m\u001b[0;34m)\u001b[0m\u001b[0;34m\u001b[0m\u001b[0;34m\u001b[0m\u001b[0m\n\u001b[0m",
            "\u001b[0;32m/usr/local/lib/python3.6/dist-packages/torch/serialization.py\u001b[0m in \u001b[0;36msave\u001b[0;34m(obj, f, pickle_module, pickle_protocol, _use_new_zipfile_serialization)\u001b[0m\n\u001b[1;32m    367\u001b[0m             \u001b[0;32mreturn\u001b[0m\u001b[0;34m\u001b[0m\u001b[0;34m\u001b[0m\u001b[0m\n\u001b[1;32m    368\u001b[0m \u001b[0;34m\u001b[0m\u001b[0m\n\u001b[0;32m--> 369\u001b[0;31m     \u001b[0;32mwith\u001b[0m \u001b[0m_open_file_like\u001b[0m\u001b[0;34m(\u001b[0m\u001b[0mf\u001b[0m\u001b[0;34m,\u001b[0m \u001b[0;34m'wb'\u001b[0m\u001b[0;34m)\u001b[0m \u001b[0;32mas\u001b[0m \u001b[0mopened_file\u001b[0m\u001b[0;34m:\u001b[0m\u001b[0;34m\u001b[0m\u001b[0;34m\u001b[0m\u001b[0m\n\u001b[0m\u001b[1;32m    370\u001b[0m         \u001b[0m_legacy_save\u001b[0m\u001b[0;34m(\u001b[0m\u001b[0mobj\u001b[0m\u001b[0;34m,\u001b[0m \u001b[0mopened_file\u001b[0m\u001b[0;34m,\u001b[0m \u001b[0mpickle_module\u001b[0m\u001b[0;34m,\u001b[0m \u001b[0mpickle_protocol\u001b[0m\u001b[0;34m)\u001b[0m\u001b[0;34m\u001b[0m\u001b[0;34m\u001b[0m\u001b[0m\n\u001b[1;32m    371\u001b[0m \u001b[0;34m\u001b[0m\u001b[0m\n",
            "\u001b[0;32m/usr/local/lib/python3.6/dist-packages/torch/serialization.py\u001b[0m in \u001b[0;36m_open_file_like\u001b[0;34m(name_or_buffer, mode)\u001b[0m\n\u001b[1;32m    232\u001b[0m \u001b[0;32mdef\u001b[0m \u001b[0m_open_file_like\u001b[0m\u001b[0;34m(\u001b[0m\u001b[0mname_or_buffer\u001b[0m\u001b[0;34m,\u001b[0m \u001b[0mmode\u001b[0m\u001b[0;34m)\u001b[0m\u001b[0;34m:\u001b[0m\u001b[0;34m\u001b[0m\u001b[0;34m\u001b[0m\u001b[0m\n\u001b[1;32m    233\u001b[0m     \u001b[0;32mif\u001b[0m \u001b[0m_is_path\u001b[0m\u001b[0;34m(\u001b[0m\u001b[0mname_or_buffer\u001b[0m\u001b[0;34m)\u001b[0m\u001b[0;34m:\u001b[0m\u001b[0;34m\u001b[0m\u001b[0;34m\u001b[0m\u001b[0m\n\u001b[0;32m--> 234\u001b[0;31m         \u001b[0;32mreturn\u001b[0m \u001b[0m_open_file\u001b[0m\u001b[0;34m(\u001b[0m\u001b[0mname_or_buffer\u001b[0m\u001b[0;34m,\u001b[0m \u001b[0mmode\u001b[0m\u001b[0;34m)\u001b[0m\u001b[0;34m\u001b[0m\u001b[0;34m\u001b[0m\u001b[0m\n\u001b[0m\u001b[1;32m    235\u001b[0m     \u001b[0;32melse\u001b[0m\u001b[0;34m:\u001b[0m\u001b[0;34m\u001b[0m\u001b[0;34m\u001b[0m\u001b[0m\n\u001b[1;32m    236\u001b[0m         \u001b[0;32mif\u001b[0m \u001b[0;34m'w'\u001b[0m \u001b[0;32min\u001b[0m \u001b[0mmode\u001b[0m\u001b[0;34m:\u001b[0m\u001b[0;34m\u001b[0m\u001b[0;34m\u001b[0m\u001b[0m\n",
            "\u001b[0;32m/usr/local/lib/python3.6/dist-packages/torch/serialization.py\u001b[0m in \u001b[0;36m__init__\u001b[0;34m(self, name, mode)\u001b[0m\n\u001b[1;32m    213\u001b[0m \u001b[0;32mclass\u001b[0m \u001b[0m_open_file\u001b[0m\u001b[0;34m(\u001b[0m\u001b[0m_opener\u001b[0m\u001b[0;34m)\u001b[0m\u001b[0;34m:\u001b[0m\u001b[0;34m\u001b[0m\u001b[0;34m\u001b[0m\u001b[0m\n\u001b[1;32m    214\u001b[0m     \u001b[0;32mdef\u001b[0m \u001b[0m__init__\u001b[0m\u001b[0;34m(\u001b[0m\u001b[0mself\u001b[0m\u001b[0;34m,\u001b[0m \u001b[0mname\u001b[0m\u001b[0;34m,\u001b[0m \u001b[0mmode\u001b[0m\u001b[0;34m)\u001b[0m\u001b[0;34m:\u001b[0m\u001b[0;34m\u001b[0m\u001b[0;34m\u001b[0m\u001b[0m\n\u001b[0;32m--> 215\u001b[0;31m         \u001b[0msuper\u001b[0m\u001b[0;34m(\u001b[0m\u001b[0m_open_file\u001b[0m\u001b[0;34m,\u001b[0m \u001b[0mself\u001b[0m\u001b[0;34m)\u001b[0m\u001b[0;34m.\u001b[0m\u001b[0m__init__\u001b[0m\u001b[0;34m(\u001b[0m\u001b[0mopen\u001b[0m\u001b[0;34m(\u001b[0m\u001b[0mname\u001b[0m\u001b[0;34m,\u001b[0m \u001b[0mmode\u001b[0m\u001b[0;34m)\u001b[0m\u001b[0;34m)\u001b[0m\u001b[0;34m\u001b[0m\u001b[0;34m\u001b[0m\u001b[0m\n\u001b[0m\u001b[1;32m    216\u001b[0m \u001b[0;34m\u001b[0m\u001b[0m\n\u001b[1;32m    217\u001b[0m     \u001b[0;32mdef\u001b[0m \u001b[0m__exit__\u001b[0m\u001b[0;34m(\u001b[0m\u001b[0mself\u001b[0m\u001b[0;34m,\u001b[0m \u001b[0;34m*\u001b[0m\u001b[0margs\u001b[0m\u001b[0;34m)\u001b[0m\u001b[0;34m:\u001b[0m\u001b[0;34m\u001b[0m\u001b[0;34m\u001b[0m\u001b[0m\n",
            "\u001b[0;31mFileNotFoundError\u001b[0m: [Errno 2] No such file or directory: 'drive/My Drive/transformer.pth'"
          ]
        }
      ]
    },
    {
      "cell_type": "code",
      "metadata": {
        "id": "i412TCMij7NQ",
        "colab_type": "code",
        "outputId": "8734bbaf-6a8c-439b-e469-b11232771809",
        "colab": {
          "base_uri": "https://localhost:8080/",
          "height": 34
        }
      },
      "source": [
        "# model.load_state_dict(torch.load(best_model_path))\n",
        "test_loss, test_accuracy = run_epoch(model, test_iterator, None, criterion, phase='val')\n",
        "print(f'Test Loss: {test_loss:.3f} | Test accuracy: {test_accuracy:7.3f}')"
      ],
      "execution_count": 87,
      "outputs": [
        {
          "output_type": "stream",
          "text": [
            "Test Loss: 0.423 | Test accuracy:   0.847\n"
          ],
          "name": "stdout"
        }
      ]
    },
    {
      "cell_type": "markdown",
      "metadata": {
        "id": "ecTpcj7-j7NT",
        "colab_type": "text"
      },
      "source": [
        "Explore how the trained model works on test sentences:"
      ]
    },
    {
      "cell_type": "code",
      "metadata": {
        "id": "ZxkfTHlxj7NT",
        "colab_type": "code",
        "outputId": "8391366c-2c54-45af-d18f-22faf548f32d",
        "colab": {
          "base_uri": "https://localhost:8080/",
          "height": 232
        }
      },
      "source": [
        "example_index = np.random.randint(0, len(test_data.examples))\n",
        "\n",
        "sentence = test_data.examples[example_index].text #.to(device)\n",
        "gt_postags = test_data.examples[example_index].postag #.to(device)\n",
        "tokens, pred_postags = infer_model(sentence, model, device)\n",
        "\n",
        "print_predictions(tokens, pred_postags, gt_postags)"
      ],
      "execution_count": 1,
      "outputs": [
        {
          "output_type": "error",
          "ename": "NameError",
          "evalue": "ignored",
          "traceback": [
            "\u001b[0;31m---------------------------------------------------------------------------\u001b[0m",
            "\u001b[0;31mNameError\u001b[0m                                 Traceback (most recent call last)",
            "\u001b[0;32m<ipython-input-1-d2dcec864838>\u001b[0m in \u001b[0;36m<module>\u001b[0;34m()\u001b[0m\n\u001b[0;32m----> 1\u001b[0;31m \u001b[0mexample_index\u001b[0m \u001b[0;34m=\u001b[0m \u001b[0mnp\u001b[0m\u001b[0;34m.\u001b[0m\u001b[0mrandom\u001b[0m\u001b[0;34m.\u001b[0m\u001b[0mrandint\u001b[0m\u001b[0;34m(\u001b[0m\u001b[0;36m0\u001b[0m\u001b[0;34m,\u001b[0m \u001b[0mlen\u001b[0m\u001b[0;34m(\u001b[0m\u001b[0mtest_data\u001b[0m\u001b[0;34m.\u001b[0m\u001b[0mexamples\u001b[0m\u001b[0;34m)\u001b[0m\u001b[0;34m)\u001b[0m\u001b[0;34m\u001b[0m\u001b[0;34m\u001b[0m\u001b[0m\n\u001b[0m\u001b[1;32m      2\u001b[0m \u001b[0;34m\u001b[0m\u001b[0m\n\u001b[1;32m      3\u001b[0m \u001b[0msentence\u001b[0m \u001b[0;34m=\u001b[0m \u001b[0mtest_data\u001b[0m\u001b[0;34m.\u001b[0m\u001b[0mexamples\u001b[0m\u001b[0;34m[\u001b[0m\u001b[0mexample_index\u001b[0m\u001b[0;34m]\u001b[0m\u001b[0;34m.\u001b[0m\u001b[0mtext\u001b[0m \u001b[0;31m#.to(device)\u001b[0m\u001b[0;34m\u001b[0m\u001b[0;34m\u001b[0m\u001b[0m\n\u001b[1;32m      4\u001b[0m \u001b[0mgt_postags\u001b[0m \u001b[0;34m=\u001b[0m \u001b[0mtest_data\u001b[0m\u001b[0;34m.\u001b[0m\u001b[0mexamples\u001b[0m\u001b[0;34m[\u001b[0m\u001b[0mexample_index\u001b[0m\u001b[0;34m]\u001b[0m\u001b[0;34m.\u001b[0m\u001b[0mpostag\u001b[0m \u001b[0;31m#.to(device)\u001b[0m\u001b[0;34m\u001b[0m\u001b[0;34m\u001b[0m\u001b[0m\n\u001b[1;32m      5\u001b[0m \u001b[0mtokens\u001b[0m\u001b[0;34m,\u001b[0m \u001b[0mpred_postags\u001b[0m \u001b[0;34m=\u001b[0m \u001b[0minfer_model\u001b[0m\u001b[0;34m(\u001b[0m\u001b[0msentence\u001b[0m\u001b[0;34m,\u001b[0m \u001b[0mmodel\u001b[0m\u001b[0;34m,\u001b[0m \u001b[0mdevice\u001b[0m\u001b[0;34m)\u001b[0m\u001b[0;34m\u001b[0m\u001b[0;34m\u001b[0m\u001b[0m\n",
            "\u001b[0;31mNameError\u001b[0m: name 'np' is not defined"
          ]
        }
      ]
    },
    {
      "cell_type": "markdown",
      "metadata": {
        "id": "9R0ta5e3j7NW",
        "colab_type": "text"
      },
      "source": [
        "And on our own sentences:"
      ]
    },
    {
      "cell_type": "code",
      "metadata": {
        "id": "z5z8BWOZj7NW",
        "colab_type": "code",
        "colab": {
          "base_uri": "https://localhost:8080/",
          "height": 232
        },
        "outputId": "e4293694-8634-4211-c7dd-baf07df69a3d"
      },
      "source": [
        "sentence = 'I will definitely pass this homework'\n",
        "print_predictions(*infer_model(sentence, model, device))\n",
        "\n",
        "sentence = 'Look , there is a bear'\n",
        "print_predictions(*infer_model(sentence, model, device))\n",
        "\n",
        "sentence = 'I can not bear it anymore'\n",
        "print_predictions(*infer_model(sentence, model, device))"
      ],
      "execution_count": 2,
      "outputs": [
        {
          "output_type": "error",
          "ename": "NameError",
          "evalue": "ignored",
          "traceback": [
            "\u001b[0;31m---------------------------------------------------------------------------\u001b[0m",
            "\u001b[0;31mNameError\u001b[0m                                 Traceback (most recent call last)",
            "\u001b[0;32m<ipython-input-2-b3d199b059b4>\u001b[0m in \u001b[0;36m<module>\u001b[0;34m()\u001b[0m\n\u001b[1;32m      1\u001b[0m \u001b[0msentence\u001b[0m \u001b[0;34m=\u001b[0m \u001b[0;34m'I will definitely pass this homework'\u001b[0m\u001b[0;34m\u001b[0m\u001b[0;34m\u001b[0m\u001b[0m\n\u001b[0;32m----> 2\u001b[0;31m \u001b[0mprint_predictions\u001b[0m\u001b[0;34m(\u001b[0m\u001b[0;34m*\u001b[0m\u001b[0minfer_model\u001b[0m\u001b[0;34m(\u001b[0m\u001b[0msentence\u001b[0m\u001b[0;34m,\u001b[0m \u001b[0mmodel\u001b[0m\u001b[0;34m,\u001b[0m \u001b[0mdevice\u001b[0m\u001b[0;34m)\u001b[0m\u001b[0;34m)\u001b[0m\u001b[0;34m\u001b[0m\u001b[0;34m\u001b[0m\u001b[0m\n\u001b[0m\u001b[1;32m      3\u001b[0m \u001b[0;34m\u001b[0m\u001b[0m\n\u001b[1;32m      4\u001b[0m \u001b[0msentence\u001b[0m \u001b[0;34m=\u001b[0m \u001b[0;34m'Look , there is a bear'\u001b[0m\u001b[0;34m\u001b[0m\u001b[0;34m\u001b[0m\u001b[0m\n\u001b[1;32m      5\u001b[0m \u001b[0mprint_predictions\u001b[0m\u001b[0;34m(\u001b[0m\u001b[0;34m*\u001b[0m\u001b[0minfer_model\u001b[0m\u001b[0;34m(\u001b[0m\u001b[0msentence\u001b[0m\u001b[0;34m,\u001b[0m \u001b[0mmodel\u001b[0m\u001b[0;34m,\u001b[0m \u001b[0mdevice\u001b[0m\u001b[0;34m)\u001b[0m\u001b[0;34m)\u001b[0m\u001b[0;34m\u001b[0m\u001b[0;34m\u001b[0m\u001b[0m\n",
            "\u001b[0;31mNameError\u001b[0m: name 'print_predictions' is not defined"
          ]
        }
      ]
    },
    {
      "cell_type": "markdown",
      "metadata": {
        "id": "h2JmwQyTj7NX",
        "colab_type": "text"
      },
      "source": [
        "## Report\n",
        "1. Did you manage to train the baseline Conv model with the test accuracy **> 82.5%**? Choose <font color='green'>YES</font> or  <font color='red'>NO</font>\n",
        "\n",
        "2. Did you manage to train the Transformer model with the test accuracy **> 85.0%**? Choose <font color='green'>YES</font> or  <font color='red'>NO</font>\n",
        "\n",
        "3. Did your Trasformer managed to correctly tag `bear` as a `VERB` in sentence **\"I can not bear it anymore\"**? Choose <font color='green'>YES</font> or  <font color='red'>NO</font>\n",
        "\n",
        "4. Did you attach to your submission the screenshots of accuracy curves from Tensorboard for both models on validation dataset? Choose <font color='green'>YES</font> or  <font color='red'>NO</font>\n",
        "\n",
        "5. Did you attach to your submission the model checkpoints: `ConvPOSTagger.best.pth` and `TransformerPOSTagger.best.pth`? Choose <font color='green'>YES</font> or  <font color='red'>NO</font>\n",
        "\n",
        "6. What was the most difficult part of the homework for you? [Your answer here]\n",
        "\n",
        "7. What experiments with Transformer did you conduct? What hyperparameters worked the best? [Your answer here]\n",
        "\n",
        "8. And here you're free to tell us everything you want. [Your answer here]"
      ]
    },
    {
      "cell_type": "markdown",
      "metadata": {
        "id": "vf3e1Jusj7NY",
        "colab_type": "text"
      },
      "source": [
        "## Acknowledgements\n",
        "- Big thanks to Ben Trevett for creating the core part of the Transformer code."
      ]
    },
    {
      "cell_type": "markdown",
      "metadata": {
        "id": "bo5jc4bfj7NY",
        "colab_type": "text"
      },
      "source": [
        "---"
      ]
    }
  ]
}