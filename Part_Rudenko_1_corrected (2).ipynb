{
  "nbformat": 4,
  "nbformat_minor": 0,
  "metadata": {
    "kernelspec": {
      "display_name": "Python 3",
      "language": "python",
      "name": "python3"
    },
    "language_info": {
      "codemirror_mode": {
        "name": "ipython",
        "version": 3
      },
      "file_extension": ".py",
      "mimetype": "text/x-python",
      "name": "python",
      "nbconvert_exporter": "python",
      "pygments_lexer": "ipython3",
      "version": "3.6.9"
    },
    "colab": {
      "name": "Part_Rudenko_1_corrected.ipynb",
      "provenance": []
    }
  },
  "cells": [
    {
      "cell_type": "markdown",
      "metadata": {
        "id": "l8Gk-V7rJQ7J",
        "colab_type": "text"
      },
      "source": [
        "This problem set is provided to help you get used to PyTorch.\n",
        "\n",
        "Only fill parts marked with \"`Your code here`\" comments, don't erase or change the rest.\n",
        "\n",
        "<font color=\"red\">**You are NOT ALLOWED to:**</font>\n",
        "* use NumPy or any other tensor library except PyTorch;\n",
        "* emulate PyTorch tensors (i.e. large arrays of numbers) with lists or tuples;\n",
        "* emulate any tensor functionality with other libraries/loops/indexing if it's directly native to PyTorch. Example:\n",
        "\n",
        "```python\n",
        "x = torch.rand(1_000_000)\n",
        "\n",
        "# Wrong: slow and unreadable\n",
        "for idx in range(x.numel()):\n",
        "    x[idx] = math.sqrt(x[idx])\n",
        "\n",
        "# Correct\n",
        "x.sqrt_()\n",
        "```"
      ]
    },
    {
      "cell_type": "markdown",
      "metadata": {
        "id": "yeUISyj_JQ7L",
        "colab_type": "text"
      },
      "source": [
        "# Homework 2, *part 1*\n",
        "### (40 points total)\n",
        "\n",
        "In this part only, you are <font color=\"red\">**NOT ALLOWED**</font> to use any PyTorch submodules, including\n",
        "* `torch.nn`,\n",
        "* `torch.nn.functional` (in general, try to always avoid using it),\n",
        "* `torch.optim`,\n",
        "* `torch.utils.data`.\n",
        "\n",
        "Instead, use only PyTorch core functions, such as `torch.avg_pool1d(x)` or `torch.no_grad()`. Where possible, use special operators syntax (e.g. `x @ y`, `x += 17`, `x[None]`) or tensor methods (e.g. `x.to(y)`, `x.prelu()`, `x.copy_(y)`).\n",
        "\n",
        "**You are required** to format your notebook cells so that `Run All` command on a fresh notebook\n",
        "* displays all the required plots in tasks 1 and 2;\n",
        "* within 15 seconds, **reliably** trains your model in task 3 to the desired accuracy and reports the accuracy reached."
      ]
    },
    {
      "cell_type": "code",
      "metadata": {
        "id": "v-rByH_IJQ7M",
        "colab_type": "code",
        "colab": {}
      },
      "source": [
        "import numpy as np               # results verification during grading\n",
        "import math                      # Pi\n",
        "\n",
        "import matplotlib.pyplot as plt  # 2D plot in task 1\n",
        "%matplotlib inline\n",
        "\n",
        "import torch\n",
        "assert torch.__version__ >= '1.3.0'"
      ],
      "execution_count": 0,
      "outputs": []
    },
    {
      "cell_type": "code",
      "metadata": {
        "id": "9bgrOcZ-JQ7Q",
        "colab_type": "code",
        "outputId": "468105a6-a097-44c6-fcfd-c74cdf425404",
        "colab": {
          "base_uri": "https://localhost:8080/",
          "height": 122
        }
      },
      "source": [
        "# Detect if we are in Google Colaboratory\n",
        "try:\n",
        "    import google.colab\n",
        "    IN_COLAB = True\n",
        "except ImportError:\n",
        "    IN_COLAB = False\n",
        "\n",
        "from pathlib import Path\n",
        "# Determine the locations of auxiliary libraries and datasets.\n",
        "# `AUX_DATA_ROOT` is where 'notmnist.py', 'animation.py' and 'tiny-imagenet-2020.zip' are.\n",
        "if IN_COLAB:\n",
        "    google.colab.drive.mount(\"/content/drive\")\n",
        "    \n",
        "    # Change this if you created the shortcut in a different location\n",
        "    AUX_DATA_ROOT = Path(\"/content/drive/My Drive/Deep Learning 2020 -- Home Assignment 2\")\n",
        "    \n",
        "    assert AUX_DATA_ROOT.is_dir(), \"Have you forgot to 'Add a shortcut to Drive'?\"\n",
        "    \n",
        "    import sys\n",
        "    sys.path.insert(0, str(AUX_DATA_ROOT))\n",
        "else:\n",
        "    AUX_DATA_ROOT = Path(\".\")"
      ],
      "execution_count": 2,
      "outputs": [
        {
          "output_type": "stream",
          "text": [
            "Go to this URL in a browser: https://accounts.google.com/o/oauth2/auth?client_id=947318989803-6bn6qk8qdgf4n4g3pfee6491hc0brc4i.apps.googleusercontent.com&redirect_uri=urn%3aietf%3awg%3aoauth%3a2.0%3aoob&response_type=code&scope=email%20https%3a%2f%2fwww.googleapis.com%2fauth%2fdocs.test%20https%3a%2f%2fwww.googleapis.com%2fauth%2fdrive%20https%3a%2f%2fwww.googleapis.com%2fauth%2fdrive.photos.readonly%20https%3a%2f%2fwww.googleapis.com%2fauth%2fpeopleapi.readonly\n",
            "\n",
            "Enter your authorization code:\n",
            "··········\n",
            "Mounted at /content/drive\n"
          ],
          "name": "stdout"
        }
      ]
    },
    {
      "cell_type": "code",
      "metadata": {
        "id": "q6Ved1H5JQ7V",
        "colab_type": "code",
        "colab": {}
      },
      "source": [
        "# Import the custom libraries\n",
        "from animation import Animation    # animations in task 2\n",
        "from notmnist import load_notmnist # dataset for task 3"
      ],
      "execution_count": 0,
      "outputs": []
    },
    {
      "cell_type": "markdown",
      "metadata": {
        "id": "Wi6Sjl-uJQ7Y",
        "colab_type": "text"
      },
      "source": [
        "While learning PyTorch, you will have lots of questions, e.g.\n",
        "\n",
        "* how to choose between `.sqrt()` and `.sqrt_()`,\n",
        "* when to use `.view()` and how is it different from `.reshape()`,\n",
        "* which `dtype` to use etc.\n",
        "\n",
        "To find the answers, you are expected to study [documentation](https://pytorch.org/docs/stable/index.html) and google a lot.\n",
        "\n",
        "If this is your first PyTorch experience, you may want to [start here](https://pytorch.org/tutorials/).\n",
        "\n",
        "Quick documentation on functions and modules is available with `?` and `help()`, like so:"
      ]
    },
    {
      "cell_type": "code",
      "metadata": {
        "id": "9Q4_F5w-JQ7Z",
        "colab_type": "code",
        "outputId": "76872b26-cda1-4c86-ecf7-daa2e6802fc9",
        "colab": {
          "base_uri": "https://localhost:8080/",
          "height": 391
        }
      },
      "source": [
        "help(torch.sqrt)"
      ],
      "execution_count": 0,
      "outputs": [
        {
          "output_type": "stream",
          "text": [
            "Help on built-in function sqrt:\n",
            "\n",
            "sqrt(...)\n",
            "    sqrt(input, out=None) -> Tensor\n",
            "    \n",
            "    Returns a new tensor with the square-root of the elements of :attr:`input`.\n",
            "    \n",
            "    .. math::\n",
            "        \\text{out}_{i} = \\sqrt{\\text{input}_{i}}\n",
            "    \n",
            "    Args:\n",
            "        input (Tensor): the input tensor.\n",
            "        out (Tensor, optional): the output tensor.\n",
            "    \n",
            "    Example::\n",
            "    \n",
            "        >>> a = torch.randn(4)\n",
            "        >>> a\n",
            "        tensor([-2.0755,  1.0226,  0.0831,  0.4806])\n",
            "        >>> torch.sqrt(a)\n",
            "        tensor([    nan,  1.0112,  0.2883,  0.6933])\n",
            "\n"
          ],
          "name": "stdout"
        }
      ]
    },
    {
      "cell_type": "code",
      "metadata": {
        "id": "irOscp8jJQ7d",
        "colab_type": "code",
        "colab": {}
      },
      "source": [
        "# to close the Jupyter help bar, press `Esc` or `q`\n",
        "?torch.cat"
      ],
      "execution_count": 0,
      "outputs": []
    },
    {
      "cell_type": "markdown",
      "metadata": {
        "id": "FQb23nrjJQ7g",
        "colab_type": "text"
      },
      "source": [
        "## Task 1 (3 points)\n",
        "\n",
        "**Use 64-bit floating point tensors for this task**.\n",
        "\n",
        "$\\rho(\\theta)$ is defined in polar coordinate system:\n",
        "\n",
        "$$\\rho(\\theta) = (1 + 0.9 \\cdot \\cos{8\\theta} ) \\cdot (1 + 0.1 \\cdot \\cos{24\\theta}) \\cdot (0.9 + 0.05 \\cdot \\cos {200\\theta}) \\cdot (1 + \\sin{\\theta})$$\n",
        "\n",
        "1. Create a regular grid of 1000 values of $\\theta$ between $-\\pi$ and $\\pi$.\n",
        "2. Compute $\\rho(\\theta)$ at these points.\n",
        "3. Convert the result into Cartesian coordinates ([see here how](http://www.mathsisfun.com/polar-cartesian-coordinates.html))."
      ]
    },
    {
      "cell_type": "code",
      "metadata": {
        "id": "N5rvcG5ZJQ7h",
        "colab_type": "code",
        "colab": {}
      },
      "source": [
        "theta =torch.linspace(-np.pi, np.pi, 1000, requires_grad = True)\n",
        "assert theta.shape == (1000,)\n",
        "\n",
        "rho = (1+0.9*torch.cos(8 * theta))*(1+0.1*torch.cos(24*theta))*(0.9+0.05*torch.cos(200*theta))*(1+torch.sin(theta))\n",
        "assert torch.is_same_size(rho, theta)\n",
        "\n",
        "x = (rho * torch.cos(theta)).detach().numpy()\n",
        "y = (rho * torch.sin(theta)).detach().numpy()"
      ],
      "execution_count": 0,
      "outputs": []
    },
    {
      "cell_type": "code",
      "metadata": {
        "id": "8M2qikQKJQ7l",
        "colab_type": "code",
        "outputId": "99850bfa-ffcf-4f80-bd6e-a6e38e7f1b29",
        "colab": {
          "base_uri": "https://localhost:8080/",
          "height": 374
        }
      },
      "source": [
        "# Run this cell and make sure the plot is correct\n",
        "plt.figure(figsize=(6,6))\n",
        "plt.fill(x, y, color='green')\n",
        "plt.grid()"
      ],
      "execution_count": 785,
      "outputs": [
        {
          "output_type": "display_data",
          "data": {
            "image/png": "[encoded data removed]",
            "text/plain": [
              "<Figure size 432x432 with 1 Axes>"
            ]
          },
          "metadata": {
            "tags": [],
            "needs_background": "light"
          }
        }
      ]
    },
    {
      "cell_type": "code",
      "metadata": {
        "id": "MNCFPeEUJQ7o",
        "colab_type": "code",
        "colab": {
          "base_uri": "https://localhost:8080/",
          "height": 34
        },
        "outputId": "4231dfd3-dcf0-486a-a266-0e04014bf7a8"
      },
      "source": [
        "assert \\\n",
        "    np.allclose(x.sum(), -1.9854999999997989, atol=1e-4) and \\\n",
        "    np.allclose(y.mean(), 0.44955, atol=1e-4), \\\n",
        "    \"Task 1: you've made an error somewhere\"\n",
        "print(\"Task 1: well done!\")"
      ],
      "execution_count": 786,
      "outputs": [
        {
          "output_type": "stream",
          "text": [
            "Task 1: well done!\n"
          ],
          "name": "stdout"
        }
      ]
    },
    {
      "cell_type": "markdown",
      "metadata": {
        "id": "mfF-j6M1JQ7s",
        "colab_type": "text"
      },
      "source": [
        "## Task 2 (7 points)\n",
        "\n",
        "We will implement [Conway's Game of Life](https://en.wikipedia.org/wiki/Conway's_Game_of_Life) in PyTorch.\n",
        "\n",
        "![img](https://cdn.tutsplus.com/gamedev/authors/legacy/Stephane%20Beniak/2012/09/11/Preview_Image.png)\n",
        "\n",
        "In case you skipped the above hyperlink, here are the rules:\n",
        "* You have a 2D grid of cells, where each cell is \"alive\" or \"dead\" (has a value of `1` or `0` respectively).\n",
        "* At each step in time, the so-called \"generation update\" happens:\n",
        "  * any alive cell that has 2 or 3 neighbors survives, otherwise (0, 1 or 4+ neighbors) it dies;\n",
        "  * any cell with exactly 3 neighbors becomes alive if it was dead.\n",
        "\n",
        "You are given a reference numpy implementation of the generation update. Your task is to convert it to PyTorch. Try to avoid datatype conversions."
      ]
    },
    {
      "cell_type": "code",
      "metadata": {
        "id": "4fVSOYwMJQ7s",
        "colab_type": "code",
        "colab": {}
      },
      "source": [
        "from scipy.signal import correlate2d as conv2d\n",
        "\n",
        "def game_of_life_update_numpy(alive_map):\n",
        "    \"\"\"\n",
        "    Game of Life update function.\n",
        "    \n",
        "    alive_map:\n",
        "        `numpy.ndarray`, ndim == 2, dtype == `np.int64`\n",
        "        The game map containing 0s (dead) an 1s (alive).\n",
        "    \"\"\"\n",
        "    # Count neighbours with convolution\n",
        "    conv_kernel = np.array([[1,1,1],\n",
        "                            [1,0,1],\n",
        "                            [1,1,1]], dtype=np.int64)\n",
        "    \n",
        "    num_alive_neighbors = conv2d(alive_map, conv_kernel, mode='same')\n",
        "    # print(num_alive_neighbors.shape)\n",
        "    \n",
        "    # Apply game rules\n",
        "    born = np.logical_and(num_alive_neighbors == 3, alive_map == 0)\n",
        "    survived = np.logical_and(np.isin(num_alive_neighbors, [2,3]), alive_map == 1)\n",
        "    \n",
        "    np.copyto(alive_map, np.logical_or(born, survived))"
      ],
      "execution_count": 0,
      "outputs": []
    },
    {
      "cell_type": "code",
      "metadata": {
        "id": "MctFQ4UXJQ7w",
        "colab_type": "code",
        "colab": {}
      },
      "source": [
        "def game_of_life_update_torch(alive_map):\n",
        "    \"\"\"\n",
        "    PyTorch version of `game_of_life_update_numpy`.\n",
        "    \n",
        "    alive_map:\n",
        "        `torch.tensor`, ndim == 2, dtype == `torch.int64`\n",
        "        The game map containing 0s (dead) an 1s (alive).\n",
        "\n",
        "    \"\"\"\n",
        "    conv_kernel = torch.tensor([[1,1,1],\n",
        "                            [1,0,1],\n",
        "                            [1,1,1]], dtype=torch.int64)\n",
        "    conv = torch.zeros(alive_map.shape)\n",
        "    alivem = alive_map\n",
        "    alive_map = alive_map.numpy()\n",
        "    alive_map = np.pad(alive_map, (1,1),'constant', constant_values=(0))\n",
        "    alive_map  = torch.from_numpy(alive_map )\n",
        "#         print(inpt.shape)\n",
        "    for k in range(conv.shape[0]):\n",
        "      for l in range (conv.shape[1]):\n",
        "         for i in range(conv_kernel.shape[0]):\n",
        "           for j in range(conv_kernel.shape[1]):\n",
        "             conv[k,l] += alive_map[k+i,l+j] * conv_kernel[i, j]\n",
        "    num_alive_neighbors = conv\n",
        "    # print(num_alive_neighbors.shape)\n",
        "    born = (num_alive_neighbors == 3)&( alivem == 0)\n",
        "    survived = ((num_alive_neighbors == 2)| (num_alive_neighbors ==3)) & (alivem == 1)\n",
        "    alive_map = alivem\n",
        "    alive_map.copy_(born | survived)\n",
        "    # Your code here"
      ],
      "execution_count": 0,
      "outputs": []
    },
    {
      "cell_type": "code",
      "metadata": {
        "id": "uskgBk7zJQ71",
        "colab_type": "code",
        "outputId": "9004171c-29d5-42ba-e8c1-885a88bb6aba",
        "colab": {
          "base_uri": "https://localhost:8080/",
          "height": 34
        }
      },
      "source": [
        "for _ in range(10):\n",
        "    # Generate a random initial map\n",
        "    alive_map_numpy = np.random.choice([0, 1], p=(0.5, 0.5), size=(100, 100))\n",
        "    alive_map_torch = torch.from_numpy(alive_map_numpy).clone()\n",
        "\n",
        "    game_of_life_update_numpy(alive_map_numpy)\n",
        "    game_of_life_update_torch(alive_map_torch)\n",
        "\n",
        "    # Results must be identical\n",
        "    assert np.allclose(alive_map_torch.numpy(), alive_map_numpy), \\\n",
        "        \"Your PyTorch implementation doesn't match numpy_update.\"\n",
        "\n",
        "print(\"Task 2: well done!\")"
      ],
      "execution_count": 0,
      "outputs": [
        {
          "output_type": "stream",
          "text": [
            "Task 2: well done!\n"
          ],
          "name": "stdout"
        }
      ]
    },
    {
      "cell_type": "code",
      "metadata": {
        "id": "TVAXGDTKJQ77",
        "colab_type": "code",
        "outputId": "c78fd00b-b3f5-4dc6-d8f5-a6c891077246",
        "colab": {
          "base_uri": "https://localhost:8080/",
          "height": 351
        }
      },
      "source": [
        "animation = Animation(monochrome=True)\n",
        "\n",
        "# Initialize game field\n",
        "np.random.seed(777)\n",
        "alive_map = np.random.choice([0, 1], size=(100, 100))\n",
        "alive_map = torch.from_numpy(alive_map)\n",
        "\n",
        "for _ in range(101):\n",
        "    animation.add_image((alive_map * 255).byte().numpy()[:, :, None])\n",
        "    game_of_life_update_torch(alive_map)\n",
        "\n",
        "animation.display()"
      ],
      "execution_count": 0,
      "outputs": [
        {
          "output_type": "error",
          "ename": "KeyboardInterrupt",
          "evalue": "ignored",
          "traceback": [
            "\u001b[0;31m---------------------------------------------------------------------------\u001b[0m",
            "\u001b[0;31mKeyboardInterrupt\u001b[0m                         Traceback (most recent call last)",
            "\u001b[0;32m<ipython-input-13-72e8580e92bc>\u001b[0m in \u001b[0;36m<module>\u001b[0;34m()\u001b[0m\n\u001b[1;32m      8\u001b[0m \u001b[0;32mfor\u001b[0m \u001b[0m_\u001b[0m \u001b[0;32min\u001b[0m \u001b[0mrange\u001b[0m\u001b[0;34m(\u001b[0m\u001b[0;36m101\u001b[0m\u001b[0;34m)\u001b[0m\u001b[0;34m:\u001b[0m\u001b[0;34m\u001b[0m\u001b[0;34m\u001b[0m\u001b[0m\n\u001b[1;32m      9\u001b[0m     \u001b[0manimation\u001b[0m\u001b[0;34m.\u001b[0m\u001b[0madd_image\u001b[0m\u001b[0;34m(\u001b[0m\u001b[0;34m(\u001b[0m\u001b[0malive_map\u001b[0m \u001b[0;34m*\u001b[0m \u001b[0;36m255\u001b[0m\u001b[0;34m)\u001b[0m\u001b[0;34m.\u001b[0m\u001b[0mbyte\u001b[0m\u001b[0;34m(\u001b[0m\u001b[0;34m)\u001b[0m\u001b[0;34m.\u001b[0m\u001b[0mnumpy\u001b[0m\u001b[0;34m(\u001b[0m\u001b[0;34m)\u001b[0m\u001b[0;34m[\u001b[0m\u001b[0;34m:\u001b[0m\u001b[0;34m,\u001b[0m \u001b[0;34m:\u001b[0m\u001b[0;34m,\u001b[0m \u001b[0;32mNone\u001b[0m\u001b[0;34m]\u001b[0m\u001b[0;34m)\u001b[0m\u001b[0;34m\u001b[0m\u001b[0;34m\u001b[0m\u001b[0m\n\u001b[0;32m---> 10\u001b[0;31m     \u001b[0mgame_of_life_update_torch\u001b[0m\u001b[0;34m(\u001b[0m\u001b[0malive_map\u001b[0m\u001b[0;34m)\u001b[0m\u001b[0;34m\u001b[0m\u001b[0;34m\u001b[0m\u001b[0m\n\u001b[0m\u001b[1;32m     11\u001b[0m \u001b[0;34m\u001b[0m\u001b[0m\n\u001b[1;32m     12\u001b[0m \u001b[0manimation\u001b[0m\u001b[0;34m.\u001b[0m\u001b[0mdisplay\u001b[0m\u001b[0;34m(\u001b[0m\u001b[0;34m)\u001b[0m\u001b[0;34m\u001b[0m\u001b[0;34m\u001b[0m\u001b[0m\n",
            "\u001b[0;32m<ipython-input-10-40aba03e0d71>\u001b[0m in \u001b[0;36mgame_of_life_update_torch\u001b[0;34m(alive_map)\u001b[0m\n\u001b[1;32m     21\u001b[0m          \u001b[0;32mfor\u001b[0m \u001b[0mi\u001b[0m \u001b[0;32min\u001b[0m \u001b[0mrange\u001b[0m\u001b[0;34m(\u001b[0m\u001b[0mconv_kernel\u001b[0m\u001b[0;34m.\u001b[0m\u001b[0mshape\u001b[0m\u001b[0;34m[\u001b[0m\u001b[0;36m0\u001b[0m\u001b[0;34m]\u001b[0m\u001b[0;34m)\u001b[0m\u001b[0;34m:\u001b[0m\u001b[0;34m\u001b[0m\u001b[0;34m\u001b[0m\u001b[0m\n\u001b[1;32m     22\u001b[0m            \u001b[0;32mfor\u001b[0m \u001b[0mj\u001b[0m \u001b[0;32min\u001b[0m \u001b[0mrange\u001b[0m\u001b[0;34m(\u001b[0m\u001b[0mconv_kernel\u001b[0m\u001b[0;34m.\u001b[0m\u001b[0mshape\u001b[0m\u001b[0;34m[\u001b[0m\u001b[0;36m1\u001b[0m\u001b[0;34m]\u001b[0m\u001b[0;34m)\u001b[0m\u001b[0;34m:\u001b[0m\u001b[0;34m\u001b[0m\u001b[0;34m\u001b[0m\u001b[0m\n\u001b[0;32m---> 23\u001b[0;31m              \u001b[0mconv\u001b[0m\u001b[0;34m[\u001b[0m\u001b[0mk\u001b[0m\u001b[0;34m,\u001b[0m\u001b[0ml\u001b[0m\u001b[0;34m]\u001b[0m \u001b[0;34m+=\u001b[0m \u001b[0malive_map\u001b[0m\u001b[0;34m[\u001b[0m\u001b[0mk\u001b[0m\u001b[0;34m+\u001b[0m\u001b[0mi\u001b[0m\u001b[0;34m,\u001b[0m\u001b[0ml\u001b[0m\u001b[0;34m+\u001b[0m\u001b[0mj\u001b[0m\u001b[0;34m]\u001b[0m \u001b[0;34m*\u001b[0m \u001b[0mconv_kernel\u001b[0m\u001b[0;34m[\u001b[0m\u001b[0mi\u001b[0m\u001b[0;34m,\u001b[0m \u001b[0mj\u001b[0m\u001b[0;34m]\u001b[0m\u001b[0;34m\u001b[0m\u001b[0;34m\u001b[0m\u001b[0m\n\u001b[0m\u001b[1;32m     24\u001b[0m     \u001b[0mnum_alive_neighbors\u001b[0m \u001b[0;34m=\u001b[0m \u001b[0mconv\u001b[0m\u001b[0;34m\u001b[0m\u001b[0;34m\u001b[0m\u001b[0m\n\u001b[1;32m     25\u001b[0m     \u001b[0;31m# print(num_alive_neighbors.shape)\u001b[0m\u001b[0;34m\u001b[0m\u001b[0;34m\u001b[0m\u001b[0;34m\u001b[0m\u001b[0m\n",
            "\u001b[0;31mKeyboardInterrupt\u001b[0m: "
          ]
        }
      ]
    },
    {
      "cell_type": "code",
      "metadata": {
        "scrolled": false,
        "id": "-X-n3E0TJQ7-",
        "colab_type": "code",
        "colab": {}
      },
      "source": [
        "animation = Animation(monochrome=True)\n",
        "\n",
        "# A fun setup for your amusement\n",
        "alive_map = np.arange(100) % 2 + np.zeros((100, 100), dtype=np.int64)\n",
        "alive_map[48:52, 50] = 1\n",
        "\n",
        "alive_map = torch.from_numpy(alive_map)\n",
        "\n",
        "for _ in range(150):\n",
        "    animation.add_image((alive_map * 255).byte().numpy()[:, :, None])\n",
        "    game_of_life_update_torch(alive_map)\n",
        "\n",
        "animation.display()"
      ],
      "execution_count": 0,
      "outputs": []
    },
    {
      "cell_type": "markdown",
      "metadata": {
        "id": "SQsB7rznJQ8B",
        "colab_type": "text"
      },
      "source": [
        "More fun with Game of Life: [video](https://www.youtube.com/watch?v=C2vgICfQawE)"
      ]
    },
    {
      "cell_type": "markdown",
      "metadata": {
        "id": "pOw3XnhvJQ8C",
        "colab_type": "text"
      },
      "source": [
        "## Task 3 (30 points)\n",
        "\n",
        "You have to solve yet another character recognition problem: *notMNIST* dataset of 10 letters and ~14 000 train samples.\n",
        "\n",
        "For this, we ask you to build a multilayer perceptron (*i.e. a neural network of linear layers*) from scratch using **low-level** PyTorch interface.\n",
        "\n",
        "Requirements:\n",
        "1. at least 82% validation accuracy,\n",
        "2. at least 2 linear layers,\n",
        "3. no convolutions,\n",
        "3. use [softmax followed by categorical cross-entropy](https://gombru.github.io/2018/05/23/cross_entropy_loss/).\n",
        "\n",
        "Tips:\n",
        "\n",
        "* Don't use the structures from homework 1 (`Sequential`, `.forward()` etc.). I suggest that your `NeuralNet.predict()` consists of 5-7 lines.\n",
        "* Pick random batches (either shuffle data before each epoch or sample each batch randomly).\n",
        "* Do not initialize weights with zeros ([learn why](https://stats.stackexchange.com/questions/27112/danger-of-setting-all-initial-weights-to-zero-in-backpropagation)). Gaussian noise with small variance will do.\n",
        "* 50 hidden neurons and a sigmoid nonlinearity will do for a start. Many ways to improve.\n",
        "* To improve accuracy, consider changing layers' sizes, nonlinearities, optimization methods, weights initialization.\n",
        "* Don't use GPU yet.\n",
        "\n",
        "Happy googling!"
      ]
    },
    {
      "cell_type": "markdown",
      "metadata": {
        "id": "u5-Cg9aGLc3h",
        "colab_type": "text"
      },
      "source": [
        "I USED NAME \"FORWARD\" INSTEAD OF \"PREDICT\"!!!!!!!!! I CANT REMEMBER WHY I DECIDED TO CHANGE THE NAME (MAYBE WHILE GOOGLING I CAME ACROSS NAME \"FORWARD\" AND DECIDED TO USE IT NOT TO GET MIXED EVERYTHING IN MY HEAD!! I AM SO SORRY THAT I HAVE NOT CHANGE THE NAME! \n",
        "I WANT TO WARN YOU THAT I DIDNT CHANGE ANYTHING IN THE MODEL BESIDES PART WITH TORCH NO GRAD AND I DECIDED NOT TO DELETE \"PREDICT METHOD\" BUT PLEASE, CHECK THE METHOD FORWARD INSTEAD OF PREDICT.  I USED FORWARD EVERYWHERE : IN TRAINING AND IN VALIDATING!!\n"
      ]
    },
    {
      "cell_type": "markdown",
      "metadata": {
        "id": "wIS8i_WDMZO0",
        "colab_type": "text"
      },
      "source": [
        "BECAUSE OF LIMITED TIMING I ALSO DECREASED THENUMBER OF EPOCHS"
      ]
    },
    {
      "cell_type": "code",
      "metadata": {
        "scrolled": true,
        "id": "EuamR6GLJQ8D",
        "colab_type": "code",
        "outputId": "ae138c93-cb7f-4cfe-920f-719e70dea086",
        "colab": {
          "base_uri": "https://localhost:8080/",
          "height": 68
        }
      },
      "source": [
        "letters = 'ABCDEFGHIJ'\n",
        "X_train, y_train, X_val, y_val = map(torch.tensor, load_notmnist(letters=letters))\n",
        "X_train.squeeze_()\n",
        "X_val.squeeze_();"
      ],
      "execution_count": 400,
      "outputs": [
        {
          "output_type": "stream",
          "text": [
            "Parsing... (it's OK if <10 images are broken)\n",
            "Found broken image: ./notMNIST_small/A/RGVtb2NyYXRpY2FCb2xkT2xkc3R5bGUgQm9sZC50dGY=.png\n",
            "Found broken image: ./notMNIST_small/F/Q3Jvc3NvdmVyIEJvbGRPYmxpcXVlLnR0Zg==.png\n"
          ],
          "name": "stdout"
        }
      ]
    },
    {
      "cell_type": "code",
      "metadata": {
        "id": "gTInCNXeLuFk",
        "colab_type": "code",
        "colab": {}
      },
      "source": [
        "from sklearn.preprocessing import OneHotEncoder\n",
        "import numpy as np\n",
        "ohot_encoder = OneHotEncoder(categories=[range(10)])\n",
        "\n",
        "y_train_hot = torch.tensor(ohot_encoder.fit_transform(y_train.reshape(-1, 1)).todense())\n",
        "y_val_hot = torch.tensor(ohot_encoder.transform(y_val.reshape(-1, 1)).todense())\n",
        "# y_test_hot = torch.tensor(ohot_encoder.transform(y_test.reshape(-1, 1)).todense())"
      ],
      "execution_count": 0,
      "outputs": []
    },
    {
      "cell_type": "code",
      "metadata": {
        "id": "EaoQbschLtxO",
        "colab_type": "code",
        "outputId": "89d75e17-c29b-4d74-a5f1-327dcd0d6f12",
        "colab": {
          "base_uri": "https://localhost:8080/",
          "height": 105
        }
      },
      "source": [
        "X_train = torch.tensor(X_train.reshape(X_train.shape[0], -1))\n",
        "X_val = torch.tensor(X_val.reshape(X_val.shape[0], -1))\n",
        "# X_test = X_test.reshape(X_test.shape[0], -1)"
      ],
      "execution_count": 402,
      "outputs": [
        {
          "output_type": "stream",
          "text": [
            "/usr/local/lib/python3.6/dist-packages/ipykernel_launcher.py:1: UserWarning: To copy construct from a tensor, it is recommended to use sourceTensor.clone().detach() or sourceTensor.clone().detach().requires_grad_(True), rather than torch.tensor(sourceTensor).\n",
            "  \"\"\"Entry point for launching an IPython kernel.\n",
            "/usr/local/lib/python3.6/dist-packages/ipykernel_launcher.py:2: UserWarning: To copy construct from a tensor, it is recommended to use sourceTensor.clone().detach() or sourceTensor.clone().detach().requires_grad_(True), rather than torch.tensor(sourceTensor).\n",
            "  \n"
          ],
          "name": "stderr"
        }
      ]
    },
    {
      "cell_type": "code",
      "metadata": {
        "id": "95Il-AXCMIWE",
        "colab_type": "code",
        "outputId": "f1b593a9-5cf4-4496-ef5e-fe535d5e5d9f",
        "colab": {
          "base_uri": "https://localhost:8080/",
          "height": 34
        }
      },
      "source": [
        "X_train.shape"
      ],
      "execution_count": 403,
      "outputs": [
        {
          "output_type": "execute_result",
          "data": {
            "text/plain": [
              "torch.Size([14043, 784])"
            ]
          },
          "metadata": {
            "tags": []
          },
          "execution_count": 403
        }
      ]
    },
    {
      "cell_type": "code",
      "metadata": {
        "id": "Qrt0U9d_D8oo",
        "colab_type": "code",
        "outputId": "fc58d117-bf4f-4714-bf2a-987f87ae6695",
        "colab": {
          "base_uri": "https://localhost:8080/",
          "height": 34
        }
      },
      "source": [
        "set(y_train.numpy())"
      ],
      "execution_count": 404,
      "outputs": [
        {
          "output_type": "execute_result",
          "data": {
            "text/plain": [
              "{0, 1, 2, 3, 4, 5, 6, 7, 8, 9}"
            ]
          },
          "metadata": {
            "tags": []
          },
          "execution_count": 404
        }
      ]
    },
    {
      "cell_type": "code",
      "metadata": {
        "id": "uXPBqckfJQ8F",
        "colab_type": "code",
        "outputId": "2e7aa2e1-c2cb-42ca-efcd-b91cf898e969",
        "colab": {
          "base_uri": "https://localhost:8080/",
          "height": 97
        }
      },
      "source": [
        "fig, axarr = plt.subplots(2, 10, figsize=(10, 2))\n",
        "\n",
        "for idx, ax in enumerate(axarr.ravel()):\n",
        "    ax.imshow(X_train[idx].unsqueeze(0), cmap='gray')\n",
        "    ax.axis('off')\n",
        "    ax.set_title(letters[y_train[idx]])\n",
        "\n",
        "fig.tight_layout()"
      ],
      "execution_count": 783,
      "outputs": [
        {
          "output_type": "display_data",
          "data": {
            "image/png": "[encoded data removed]",
            "text/plain": [
              "<Figure size 720x144 with 20 Axes>"
            ]
          },
          "metadata": {
            "tags": [],
            "needs_background": "light"
          }
        }
      ]
    },
    {
      "cell_type": "code",
      "metadata": {
        "id": "7qxEKvmlJQ8J",
        "colab_type": "code",
        "colab": {}
      },
      "source": [
        "np.random.seed(777)\n",
        "torch.manual_seed(777);"
      ],
      "execution_count": 0,
      "outputs": []
    },
    {
      "cell_type": "code",
      "metadata": {
        "id": "XgLnukwfBOze",
        "colab_type": "code",
        "colab": {}
      },
      "source": [
        "# batch generator\n",
        "def get_batches(dataset, batch_size):\n",
        "    X, Y = dataset\n",
        "    n_samples = X.shape[0]\n",
        "        \n",
        "    # Shuffle at the start of epoch\n",
        "    indices = np.arange(n_samples)\n",
        "    np.random.shuffle(indices)\n",
        "    \n",
        "    for start in range(0, n_samples, batch_size):\n",
        "        end = min(start + batch_size, n_samples)\n",
        "        \n",
        "        batch_idx = indices[start:end]\n",
        "    \n",
        "        yield X[batch_idx], Y[batch_idx]"
      ],
      "execution_count": 0,
      "outputs": []
    },
    {
      "cell_type": "markdown",
      "metadata": {
        "id": "WdUqNao9JQ8N",
        "colab_type": "text"
      },
      "source": [
        "The cell below has an example layout for encapsulating your neural network. Feel free to modify the interface if you need to (add arguments, add return values, add methods etc.). For example, you may want to add a method `do_gradient_step()` that executes one optimization algorithm (SGD / Adadelta / Adam / ...) step."
      ]
    },
    {
      "cell_type": "code",
      "metadata": {
        "id": "Tqrv17VVJQ8N",
        "colab_type": "code",
        "colab": {}
      },
      "source": [
        "class NeuralNet:\n",
        "  def __init__(self):\n",
        "    # Your code here\n",
        "    self.inputSize = 784\n",
        "    self.outputSize = 10\n",
        "    self.hiddenSize = 2000\n",
        "    self.batch_size = 512\n",
        "    self.n_epoch =10\n",
        "    # weights\n",
        "    stdv = 1./np.sqrt(self.inputSize)\n",
        "    # self.W = np.random.uniform(-stdv, stdv, size = (n_out, n_in))\n",
        "    self.W1 = torch.randn((784,64), requires_grad=True)\n",
        "    self.b1 =torch.zeros(64, requires_grad=True)\n",
        "    \n",
        "    self.W2 = torch.randn((64,10), requires_grad=True)\n",
        "    self.b2 =torch.zeros(10, requires_grad=True)\n",
        "   \n",
        "    self.crit_loss = 0\n",
        "  def predict(self, X_val, y_val):\n",
        "    \"\"\"\n",
        "    images:\n",
        "        `torch.tensor`, shape == `batch_size x height x width`, dtype == `torch.float32`\n",
        "        A minibatch of images -- the input to the neural net.\n",
        "    \n",
        "    return:\n",
        "    prediction:\n",
        "        `torch.tensor`, shape == `batch_size x 10`, dtype == `torch.float32`\n",
        "        The probabilities of each input image to belong to each of the dataset classes.\n",
        "        Namely, `output[i, j]` is the probability of `i`-th\n",
        "        minibatch sample to belong to `j`-th class.\n",
        "    \"\"\"\n",
        "    # Your code here\n",
        "    loss_h = []\n",
        "    acc= []\n",
        "    for x_batch, y_batch in get_batches((X_val, y_val_hot), self.batch_size):\n",
        "      predictions = self.forward(x_batch)\n",
        "      print(predictions.shape)\n",
        "      print(y_batch.shape)\n",
        "      print()\n",
        "      model_preds = torch.argmax(predictions, 1)\n",
        "      acc.append(((predictions == y_batch).sum()) / y_batch.shape[0])\n",
        "      loss = self.Criterion( y_batch)\n",
        "          # print(loss)\n",
        "      loss_h.append(loss)\n",
        "    return loss_h, loss, acc\n",
        "\n",
        "\n",
        "  def train(self,X_train, y_train_hot):\n",
        "    loss_h = []\n",
        "    for i in range(self.n_epoch):\n",
        "      for x_batch, y_batch in get_batches((X_train, y_train_hot), self.batch_size):\n",
        "          predictions = self.forward(x_batch)\n",
        "          loss = self.Criterion( y_batch)          \n",
        "          loss_h.append(loss)\n",
        "          self.crit_loss.backward()\n",
        "          self.do_backward()\n",
        "      loss_h.append(10000000000*(i+1))\n",
        "          \n",
        "    return loss_h, loss\n",
        "\n",
        "  \n",
        "  def Criterion(self, target):\n",
        "    input_clamp = torch.clamp(self.answers, 1e-10, 1 - 1e-10)\n",
        "    \n",
        "#         self.crit_loss = -(torch.log(input_clamp[:,target])).sum()\n",
        "    self.crit_loss = -(torch.log(input_clamp.gather(1, target.view(-1,1)))).sum()\n",
        "    self.crit_loss.data = self.crit_loss.data/self.answers.shape[0]\n",
        "    return self.crit_loss\n",
        "    \n",
        "\n",
        "\n",
        "  def forward(self, X):\n",
        "    self.l1 = torch.matmul(X, self.W1)+self.b1\n",
        "    self.act1 = torch.relu(self.l1) \n",
        "    self.l2 = torch.matmul(self.act1, self.W2)+self.b2\n",
        "    self.act2 = torch.relu(self.l2)    \n",
        "    self.answers = self.act2.softmax(dim=1)\n",
        "    \n",
        "    return self.answers\n",
        "\n",
        "  def backward(self, X, error, predictions):\n",
        "    self.gradSM = self.outputSM*(error - torch.sum(self.outputSM*error, axis=1).reshape(-1,1))\n",
        "   \n",
        "    self.gradact2 = self.gradSM*self.ELUback(self.act2)\n",
        "    self.gradl2 = torch.matmul(self.gradact2, torch.t(self.W2))\n",
        "    self.gradact1 = self.gradl2*self.ELUback(self.act1)\n",
        "    self.W1 -= torch.matmul(torch.t(X), self.gradact1)*0.0001\n",
        "    # print(self.gradact1.shape)\n",
        "    self.W2 -= torch.matmul(torch.t(self.act1), self.gradSM )*0.0001\n",
        "    self.b1 -= torch.sum(self.gradact1, axis=0)*0.0001\n",
        "    self.b2 -= torch.sum(self.gradSM, axis=0)*0.0001\n",
        "\n",
        "  def do_backward(self):\n",
        "      self.W1.data = self.W1.data - 0.0001*self.W1.grad.data\n",
        "      self.b1.data = self.b1.data - 0.0001*self.b1.grad.data\n",
        "      \n",
        "      self.W2.data = self.W2.data - 0.0001*self.W2.grad.data\n",
        "      self.b2.data = self.b2.data - 0.0001*self.b2.grad.data\n",
        "\n",
        "\n",
        "      with torch.no_grad():\n",
        "      \n",
        "        self.W2.grad = torch.zeros_like(self.W2)\n",
        "        self.b2.grad = torch.zeros_like(self.b2)\n",
        "        self.W1.grad = torch.zeros_like(self.W1)\n",
        "        self.b1.grad = torch.zeros_like(self.b1)\n",
        "\n",
        "  # def SoftMax(self, input):\n",
        "  #   out = torch.zeros(input.shape,  dtype = torch.float32) #, dtype = 'torch.float32')\n",
        "  #   for i in range(input.shape[0]):\n",
        "  #       # a = torch.mean(input[i])\n",
        "  #       # norm = torch.sum(torch.tensor([torch.exp(k) for k in input[i]]), dtype = torch.float32)\n",
        "  #       norm = torch.sum(torch.exp(input[i]), dtype = torch.float32)\n",
        "  #       # print(norm ==0)\n",
        "  #       for j in range(input.shape[1]):\n",
        "  #           el = torch.exp(input[i][j]) / norm\n",
        "  #           out[i][j] = el\n",
        "  #   self.outputSM = out\n",
        "  #   return self.outputSM\n",
        "\n",
        "\n",
        "  # Your code here"
      ],
      "execution_count": 0,
      "outputs": []
    },
    {
      "cell_type": "code",
      "metadata": {
        "id": "_KJE1OHXJQ8P",
        "colab_type": "code",
        "colab": {}
      },
      "source": [
        "def accuracy(model, images, labels):\n",
        "    \"\"\"\n",
        "    model:\n",
        "        `NeuralNet`\n",
        "    images:\n",
        "        `torch.tensor`, shape == `N x height x width`, dtype == `torch.float32`\n",
        "    labels:\n",
        "        `torch.tensor`, shape == `N`, dtype == `torch.int64`\n",
        "        Class indices for each sample in `images`.\n",
        "    \n",
        "    return:\n",
        "    value:\n",
        "        `float`\n",
        "        The fraction of samples from `images` correctly classified by `model`.\n",
        "        `0 <= value <= 1`.\n",
        "        \n",
        "    \"\"\"\n",
        "    predictions = model.forward(images)\n",
        "    predictions = torch.argmax(predictions, axis=1)\n",
        "    \n",
        "    return torch.mean((labels==predictions).float())\n",
        "    # Your code here"
      ],
      "execution_count": 0,
      "outputs": []
    },
    {
      "cell_type": "code",
      "metadata": {
        "id": "2SiUAc7VJQ8S",
        "colab_type": "code",
        "colab": {}
      },
      "source": [
        "\n",
        "model = NeuralNet()\n"
      ],
      "execution_count": 0,
      "outputs": []
    },
    {
      "cell_type": "code",
      "metadata": {
        "id": "qI1Ccllcc1Oq",
        "colab_type": "code",
        "colab": {
          "base_uri": "https://localhost:8080/",
          "height": 51
        },
        "outputId": "027db426-2769-430d-ca87-7e004bd0fb78"
      },
      "source": [
        "%%time\n",
        "losshis , loss = model.train(X_train, y_train)"
      ],
      "execution_count": 761,
      "outputs": [
        {
          "output_type": "stream",
          "text": [
            "CPU times: user 3.06 s, sys: 26.9 ms, total: 3.09 s\n",
            "Wall time: 3.16 s\n"
          ],
          "name": "stdout"
        }
      ]
    },
    {
      "cell_type": "code",
      "metadata": {
        "id": "iSzOT5CaoUS1",
        "colab_type": "code",
        "colab": {}
      },
      "source": [
        "preds = model.forward(X_val)\n",
        "\n"
      ],
      "execution_count": 0,
      "outputs": []
    },
    {
      "cell_type": "markdown",
      "metadata": {
        "id": "-RhssMsVHI5P",
        "colab_type": "text"
      },
      "source": [
        ""
      ]
    },
    {
      "cell_type": "code",
      "metadata": {
        "id": "TGjPbfNb5Mmz",
        "colab_type": "code",
        "outputId": "4c4daca7-2841-4195-845a-f6aa53d60944",
        "colab": {
          "base_uri": "https://localhost:8080/",
          "height": 34
        }
      },
      "source": [
        "predictions = torch.argmax(preds, 1)\n",
        "((predictions == y_val).sum())*100.0 / y_val.shape[0]"
      ],
      "execution_count": 764,
      "outputs": [
        {
          "output_type": "execute_result",
          "data": {
            "text/plain": [
              "tensor(85.6868)"
            ]
          },
          "metadata": {
            "tags": []
          },
          "execution_count": 764
        }
      ]
    },
    {
      "cell_type": "code",
      "metadata": {
        "id": "Y6fUjdy66nvf",
        "colab_type": "code",
        "colab": {}
      },
      "source": [
        "w1 = model.W1\n",
        "b1 = model.b1\n",
        "w2 = model.W2\n",
        "b2 = model.b2\n"
      ],
      "execution_count": 0,
      "outputs": []
    },
    {
      "cell_type": "code",
      "metadata": {
        "id": "DVvvpmIB69OT",
        "colab_type": "code",
        "colab": {}
      },
      "source": [
        "dictt = {'w1': w1, 'b1':b1,'w2': w2, 'b2':b2,}"
      ],
      "execution_count": 0,
      "outputs": []
    },
    {
      "cell_type": "code",
      "metadata": {
        "id": "GLoZMOIt2X5c",
        "colab_type": "code",
        "colab": {}
      },
      "source": [
        "name = 'mnist2'\n",
        "torch.save(dictt, f'drive/My Drive/{name}.pth')"
      ],
      "execution_count": 0,
      "outputs": []
    },
    {
      "cell_type": "code",
      "metadata": {
        "id": "oEwDljKe8DTQ",
        "colab_type": "code",
        "colab": {
          "base_uri": "https://localhost:8080/",
          "height": 34
        },
        "outputId": "56373d3e-1b22-44fb-b88a-971c973e36ef"
      },
      "source": [
        "# dd= torch.load('drive/My Drive/mnist.pth')\n",
        "# dd.keys()\n",
        "# model2 =NeuralNet()\n",
        "# model2.b1 = dd['b1']\n",
        "# model2.b2 = dd['b2']\n",
        "# model2.W1 = dd['w1']\n",
        "# model2.W2 = dd['w2']\n",
        "# accuracy(model2, X_val, y_val)"
      ],
      "execution_count": 782,
      "outputs": [
        {
          "output_type": "execute_result",
          "data": {
            "text/plain": [
              "tensor(87.8658)"
            ]
          },
          "metadata": {
            "tags": []
          },
          "execution_count": 782
        }
      ]
    },
    {
      "cell_type": "code",
      "metadata": {
        "id": "AtKCMwFNIQ43",
        "colab_type": "code",
        "colab": {}
      },
      "source": [
        "dd2= torch.load('drive/My Drive/mnist2.pth')\n",
        "model3 =NeuralNet()\n",
        "model3.b1 = dd2['b1']\n",
        "model3.b2 = dd2['b2']\n",
        "model3.W1 = dd2['w1']\n",
        "model3.W2 = dd2['w2']"
      ],
      "execution_count": 0,
      "outputs": []
    },
    {
      "cell_type": "code",
      "metadata": {
        "id": "JRFXQ8oXKcja",
        "colab_type": "code",
        "colab": {
          "base_uri": "https://localhost:8080/",
          "height": 34
        },
        "outputId": "90d63dcb-5e92-41c9-8da0-7a8bb8d8d518"
      },
      "source": [
        "accuracy(model3, X_val, y_val)"
      ],
      "execution_count": 788,
      "outputs": [
        {
          "output_type": "execute_result",
          "data": {
            "text/plain": [
              "tensor(85.6868)"
            ]
          },
          "metadata": {
            "tags": []
          },
          "execution_count": 788
        }
      ]
    },
    {
      "cell_type": "code",
      "metadata": {
        "id": "0eNhZdURJQ8V",
        "colab_type": "code",
        "colab": {
          "base_uri": "https://localhost:8080/",
          "height": 51
        },
        "outputId": "4c1f2ddb-e1bc-4a10-bd49-f14d395c2f70"
      },
      "source": [
        "%%time\n",
        "torch.set_num_threads(1)\n",
        "\n",
        "# Your code here (train the model)"
      ],
      "execution_count": 779,
      "outputs": [
        {
          "output_type": "stream",
          "text": [
            "CPU times: user 115 µs, sys: 0 ns, total: 115 µs\n",
            "Wall time: 120 µs\n"
          ],
          "name": "stdout"
        }
      ]
    },
    {
      "cell_type": "code",
      "metadata": {
        "id": "4fmrpf8_JQ8Y",
        "colab_type": "code",
        "colab": {
          "base_uri": "https://localhost:8080/",
          "height": 51
        },
        "outputId": "d4ed0631-0c95-44e0-926f-63177c384d81"
      },
      "source": [
        "train_accuracy = accuracy(model, X_train, y_train) * 100\n",
        "val_accuracy = accuracy(model, X_val, y_val) * 100\n",
        "print(\"Training accuracy: %.2f, validation accuracy: %.2f\" % (train_accuracy, val_accuracy))\n",
        "\n",
        "assert val_accuracy >= 82.0, \"You have to do better\"\n",
        "print(\"Task 3: well done!\")"
      ],
      "execution_count": 801,
      "outputs": [
        {
          "output_type": "stream",
          "text": [
            "Training accuracy: 87.14, validation accuracy: 85.69\n",
            "Task 3: well done!\n"
          ],
          "name": "stdout"
        }
      ]
    },
    {
      "cell_type": "code",
      "metadata": {
        "id": "oapghFdwKg2V",
        "colab_type": "code",
        "colab": {
          "base_uri": "https://localhost:8080/",
          "height": 51
        },
        "outputId": "fb377d2f-68bb-46d8-e914-5bbabb13b794"
      },
      "source": [
        "train_accuracy = accuracy(model3, X_train, y_train) * 100\n",
        "val_accuracy = accuracy(model3, X_val, y_val) * 100\n",
        "print(\"Training accuracy: %.2f, validation accuracy: %.2f\" % (train_accuracy, val_accuracy))\n",
        "\n",
        "assert val_accuracy >= 82.0, \"You have to do better\"\n",
        "print(\"Task 3: well done!\")"
      ],
      "execution_count": 802,
      "outputs": [
        {
          "output_type": "stream",
          "text": [
            "Training accuracy: 87.14, validation accuracy: 85.69\n",
            "Task 3: well done!\n"
          ],
          "name": "stdout"
        }
      ]
    },
    {
      "cell_type": "code",
      "metadata": {
        "id": "-Req8H1MKm6g",
        "colab_type": "code",
        "colab": {}
      },
      "source": [
        ""
      ],
      "execution_count": 0,
      "outputs": []
    }
  ]
}